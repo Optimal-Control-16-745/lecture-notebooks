{
 "cells": [
  {
   "cell_type": "code",
   "execution_count": null,
   "metadata": {},
   "outputs": [],
   "source": [
    "import Pkg; Pkg.activate(@__DIR__); Pkg.instantiate()"
   ]
  },
  {
   "cell_type": "code",
   "execution_count": null,
   "metadata": {},
   "outputs": [],
   "source": [
    "using LinearAlgebra\n",
    "using ForwardDiff\n",
    "using PyPlot"
   ]
  },
  {
   "cell_type": "code",
   "execution_count": null,
   "metadata": {},
   "outputs": [],
   "source": [
    "Q = Diagonal([0.5; 1])\n",
    "function f(x)\n",
    "    return 0.5*(x-[1; 0])'*Q*(x-[1; 0])\n",
    "end\n",
    "function ∇f(x)\n",
    "    return Q*(x-[1; 0])\n",
    "end\n",
    "function ∇2f(x)\n",
    "    return Q\n",
    "end"
   ]
  },
  {
   "cell_type": "code",
   "execution_count": null,
   "metadata": {},
   "outputs": [],
   "source": [
    "function c(x)\n",
    "    return x[1]^2 + 2*x[1] - x[2]\n",
    "end\n",
    "function ∂c(x)\n",
    "    return [2*x[1]+2 -1]\n",
    "end"
   ]
  },
  {
   "cell_type": "code",
   "execution_count": null,
   "metadata": {},
   "outputs": [],
   "source": [
    "function plot_landscape()\n",
    "    Nsamp = 20\n",
    "    Xsamp = kron(ones(Nsamp),LinRange(-4,4,Nsamp)')\n",
    "    Ysamp = kron(ones(Nsamp)',LinRange(-4,4,Nsamp))\n",
    "    Zsamp = zeros(Nsamp,Nsamp)\n",
    "    for j = 1:Nsamp\n",
    "        for k = 1:Nsamp\n",
    "            Zsamp[j,k] = f([Xsamp[j,k]; Ysamp[j,k]])\n",
    "        end\n",
    "    end\n",
    "    contour(Xsamp,Ysamp,Zsamp)\n",
    "\n",
    "    xc = LinRange(-3.2,1.2,Nsamp)\n",
    "    plot(xc,xc.^2+2.0.*xc,\"y\")\n",
    "end\n",
    "plot_landscape()"
   ]
  },
  {
   "cell_type": "code",
   "execution_count": null,
   "metadata": {},
   "outputs": [],
   "source": [
    "function gauss_newton_step(x,λ)\n",
    "    H = ∇2f(x)\n",
    "    C = ∂c(x)\n",
    "    Δz = [H C'; C 0]\\[-∇f(x)-C'*λ; -c(x)]\n",
    "    Δx = Δz[1:2]\n",
    "    Δλ = Δz[3]\n",
    "    return Δx, Δλ\n",
    "end"
   ]
  },
  {
   "cell_type": "code",
   "execution_count": null,
   "metadata": {},
   "outputs": [],
   "source": [
    "xguess = [-1; -1]\n",
    "λguess = [0.0]\n",
    "plot_landscape()\n",
    "plot(xguess[1], xguess[2], \"rx\")"
   ]
  },
  {
   "cell_type": "code",
   "execution_count": null,
   "metadata": {},
   "outputs": [],
   "source": [
    "Δx, Δλ = gauss_newton_step(xguess[:,end],λguess[end])\n",
    "xguess = [xguess xguess[:,end]+Δx]\n",
    "λguess = [λguess λguess[end]+Δλ]\n",
    "plot_landscape()\n",
    "plot(xguess[1,:], xguess[2,:], \"rx\")"
   ]
  },
  {
   "cell_type": "code",
   "execution_count": null,
   "metadata": {},
   "outputs": [],
   "source": [
    "function P(x,λ)\n",
    "    ∇L = [-∇f(x)-∂c(x)'*λ; -c(x)]\n",
    "    return 0.5*dot(∇L,∇L)\n",
    "end\n",
    "function ∇P(x,λ)\n",
    "    H = ∇2f(x) + ForwardDiff.jacobian(xn -> ∂c(xn)'*λ, x)\n",
    "    C = ∂c(x)\n",
    "    return [H C'; C 0]*[-∇f(x)-C'*λ; -c(x)]\n",
    "end"
   ]
  },
  {
   "cell_type": "code",
   "execution_count": null,
   "metadata": {},
   "outputs": [],
   "source": [
    "ρ = 1.0\n",
    "function P(x,λ)\n",
    "    f(x) + ρ*norm(c(x),1)\n",
    "end\n",
    "function ∇P(x,λ)\n",
    "    [∇f(x) + ρ*∂c(x)'*sign.(c(x)); zeros(length(λ))]\n",
    "end"
   ]
  },
  {
   "cell_type": "code",
   "execution_count": null,
   "metadata": {},
   "outputs": [],
   "source": [
    "Δx, Δλ = gauss_newton_step(xguess[:,end],λguess[end])\n",
    "α = 1\n",
    "while P(xguess[:,end]+α*Δx, λguess[end]+α*Δλ) > P(xguess[:,end], λguess[end]) + 0.01*α*dot(∇P(xguess[:,end], λguess[end]),[Δx; Δλ])\n",
    "    α = 0.5*α\n",
    "end\n",
    "xguess = [xguess xguess[:,end]+α*Δx]\n",
    "λguess = [λguess λguess[end]+α*Δλ]\n",
    "plot_landscape()\n",
    "plot(xguess[1,:], xguess[2,:], \"rx\")\n",
    "α"
   ]
  },
  {
   "cell_type": "code",
   "execution_count": null,
   "metadata": {},
   "outputs": [],
   "source": []
  }
 ],
 "metadata": {
  "kernelspec": {
   "display_name": "Julia 1.10.8",
   "language": "julia",
   "name": "julia-1.10"
  },
  "language_info": {
   "file_extension": ".jl",
   "mimetype": "application/julia",
   "name": "julia",
   "version": "1.10.8"
  }
 },
 "nbformat": 4,
 "nbformat_minor": 4
}
