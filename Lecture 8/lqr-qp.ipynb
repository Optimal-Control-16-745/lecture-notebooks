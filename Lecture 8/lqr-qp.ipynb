{
 "cells": [
  {
   "cell_type": "code",
   "execution_count": null,
   "metadata": {},
   "outputs": [],
   "source": [
    "import Pkg; Pkg.activate(@__DIR__); Pkg.instantiate()"
   ]
  },
  {
   "cell_type": "code",
   "execution_count": null,
   "metadata": {},
   "outputs": [],
   "source": [
    "using LinearAlgebra\n",
    "using PyPlot\n",
    "using SparseArrays"
   ]
  },
  {
   "cell_type": "code",
   "execution_count": null,
   "metadata": {},
   "outputs": [],
   "source": [
    "# Discrete dynamics\n",
    "h = 0.1   # time step\n",
    "A = [1 h; 0 1]\n",
    "B = [0.5*h*h; h]"
   ]
  },
  {
   "cell_type": "code",
   "execution_count": null,
   "metadata": {},
   "outputs": [],
   "source": [
    "n = 2     # number of state\n",
    "m = 1     # number of controls\n",
    "Tfinal = 10.0 # final time\n",
    "N = Int(Tfinal/h)+1    # number of time steps\n",
    "thist = Array(range(0,h*(N-1), step=h));"
   ]
  },
  {
   "cell_type": "code",
   "execution_count": null,
   "metadata": {},
   "outputs": [],
   "source": [
    "# Initial conditions\n",
    "x0 = [1.0; 0]"
   ]
  },
  {
   "cell_type": "code",
   "execution_count": null,
   "metadata": {},
   "outputs": [],
   "source": [
    "# Cost weights\n",
    "Q = sparse(1.0*I(2))\n",
    "R = sparse(0.1*I(1))\n",
    "Qn = sparse(1.0*I(2))"
   ]
  },
  {
   "cell_type": "code",
   "execution_count": null,
   "metadata": {},
   "outputs": [],
   "source": [
    "#Cost function\n",
    "function J(xhist,uhist)\n",
    "    cost = 0.5*xhist[:,end]'*Qn*xhist[:,end]\n",
    "    for k = 1:(N-1)\n",
    "        cost = cost + 0.5*xhist[:,k]'*Q*xhist[:,k] + 0.5*(uhist[k]'*R*uhist[k])[1]\n",
    "    end\n",
    "    return cost\n",
    "end"
   ]
  },
  {
   "cell_type": "code",
   "execution_count": null,
   "metadata": {},
   "outputs": [],
   "source": [
    "# Cost\n",
    "H = blockdiag(R, kron(I(N-2), blockdiag(Q,R)), Qn);"
   ]
  },
  {
   "cell_type": "code",
   "execution_count": null,
   "metadata": {},
   "outputs": [],
   "source": [
    "# Constraints\n",
    "C = kron(I(N-1), [B -I(2)])\n",
    "for k = 1:N-2\n",
    "    C[(k*n).+(1:n), (k*(n+m)-n).+(1:n)] .= A\n",
    "end\n",
    "d = [-A*x0; zeros(size(C,1)-n)];"
   ]
  },
  {
   "cell_type": "code",
   "execution_count": null,
   "metadata": {},
   "outputs": [],
   "source": [
    "# Solve the linear system\n",
    "y = [H C'; C zeros(size(C,1),size(C,1))]\\[zeros(size(H,1)); d]\n",
    "\n",
    "# Get state history\n",
    "z = y[1:size(H,1)]   # states and controls [u0,x1,u1,...,xN]\n",
    "Z = reshape(z,n+m,N-1)\n",
    "xhist = Z[m+1:end,:]\n",
    "xhist = [x0 xhist]\n",
    "\n",
    "# Get control history\n",
    "uhist = Z[1,:];"
   ]
  },
  {
   "cell_type": "code",
   "execution_count": null,
   "metadata": {},
   "outputs": [],
   "source": [
    "# Plot x1 vs. x2, u vs. t, x vs. t, etc.\n",
    "times = range(0,h*(N-1), step=h)\n",
    "plot(times,xhist[1,:], label=\"position\")\n",
    "plot(times,xhist[2,:], label=\"velocity\")\n",
    "xlabel(\"time\")\n",
    "legend()"
   ]
  },
  {
   "cell_type": "code",
   "execution_count": null,
   "metadata": {},
   "outputs": [],
   "source": [
    "plot(times[1:end-1], uhist, label=\"control\")\n",
    "xlabel(\"Time\")\n",
    "legend()"
   ]
  },
  {
   "cell_type": "code",
   "execution_count": null,
   "metadata": {},
   "outputs": [],
   "source": [
    "J(xhist,uhist)"
   ]
  },
  {
   "cell_type": "code",
   "execution_count": null,
   "metadata": {},
   "outputs": [],
   "source": []
  },
  {
   "cell_type": "code",
   "execution_count": null,
   "metadata": {},
   "outputs": [],
   "source": []
  }
 ],
 "metadata": {
  "kernelspec": {
   "display_name": "Julia 1.10.8",
   "language": "julia",
   "name": "julia-1.10"
  },
  "language_info": {
   "file_extension": ".jl",
   "mimetype": "application/julia",
   "name": "julia",
   "version": "1.10.8"
  }
 },
 "nbformat": 4,
 "nbformat_minor": 4
}
