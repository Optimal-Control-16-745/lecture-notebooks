{
 "cells": [
  {
   "cell_type": "code",
   "execution_count": null,
   "metadata": {},
   "outputs": [],
   "source": [
    "import Pkg; Pkg.activate(@__DIR__); Pkg.instantiate()"
   ]
  },
  {
   "cell_type": "code",
   "execution_count": null,
   "metadata": {},
   "outputs": [],
   "source": [
    "using LinearAlgebra\n",
    "using PyPlot\n",
    "using ForwardDiff\n",
    "using RobotZoo\n",
    "using RobotDynamics\n",
    "using MatrixCalculus\n",
    "using JLD2"
   ]
  },
  {
   "cell_type": "code",
   "execution_count": null,
   "metadata": {},
   "outputs": [],
   "source": [
    "#Acrobot Dynamics\n",
    "a = RobotZoo.Acrobot()\n",
    "h = 0.05"
   ]
  },
  {
   "cell_type": "code",
   "execution_count": null,
   "metadata": {},
   "outputs": [],
   "source": [
    "function dynamics_rk4(x,u)\n",
    "    #RK4 integration with zero-order hold on u\n",
    "    f1 = RobotZoo.dynamics(a, x, u)\n",
    "    f2 = RobotZoo.dynamics(a, x + 0.5*h*f1, u)\n",
    "    f3 = RobotZoo.dynamics(a, x + 0.5*h*f2, u)\n",
    "    f4 = RobotZoo.dynamics(a, x + h*f3, u)\n",
    "    return x + (h/6.0)*(f1 + 2*f2 + 2*f3 + f4)\n",
    "end"
   ]
  },
  {
   "cell_type": "code",
   "execution_count": null,
   "metadata": {},
   "outputs": [],
   "source": [
    "function dfdx(x,u)\n",
    "    ForwardDiff.jacobian(dx->dynamics_rk4(dx,u),x)\n",
    "end\n",
    "\n",
    "function dfdu(x,u)\n",
    "    ForwardDiff.derivative(du->dynamics_rk4(x,du),u)\n",
    "end"
   ]
  },
  {
   "cell_type": "code",
   "execution_count": null,
   "metadata": {},
   "outputs": [],
   "source": [
    "function dAdx(x,u)\n",
    "    ForwardDiff.jacobian(dx->vec(dfdx(dx,u)),x)\n",
    "end\n",
    "\n",
    "function dBdx(x,u)\n",
    "    ForwardDiff.jacobian(dx->dfdu(dx,u),x)\n",
    "end\n",
    "\n",
    "function dAdu(x,u)\n",
    "    ForwardDiff.derivative(du->vec(dfdx(x,du)),u)\n",
    "end\n",
    "\n",
    "function dBdu(x,u)\n",
    "    ForwardDiff.derivative(du->dfdu(x,du),u)\n",
    "end"
   ]
  },
  {
   "cell_type": "code",
   "execution_count": null,
   "metadata": {},
   "outputs": [],
   "source": [
    "Nx = 4     # number of state\n",
    "Nu = 1     # number of controls\n",
    "Tfinal = 10.0 # final time\n",
    "Nt = Int(Tfinal/h)+1    # number of time steps\n",
    "thist = Array(range(0,h*(Nt-1), step=h));"
   ]
  },
  {
   "cell_type": "code",
   "execution_count": null,
   "metadata": {},
   "outputs": [],
   "source": [
    "# Cost weights\n",
    "Q = Diagonal([1.0*ones(2); 0.1*ones(2)]);\n",
    "R = 0.01;\n",
    "Qn = Array(100.0*I(Nx));"
   ]
  },
  {
   "cell_type": "code",
   "execution_count": null,
   "metadata": {},
   "outputs": [],
   "source": [
    "function stage_cost(x,u)\n",
    "    return 0.5*((x-xgoal)'*Q*(x-xgoal)) + 0.5*R*u*u\n",
    "end"
   ]
  },
  {
   "cell_type": "code",
   "execution_count": null,
   "metadata": {},
   "outputs": [],
   "source": [
    "function terminal_cost(x)\n",
    "    return 0.5*(x-xgoal)'*Qn*(x-xgoal)\n",
    "end"
   ]
  },
  {
   "cell_type": "code",
   "execution_count": null,
   "metadata": {},
   "outputs": [],
   "source": [
    "function cost(xtraj,utraj)\n",
    "    J = 0.0\n",
    "    for k = 1:(Nt-1)\n",
    "        J += stage_cost(xtraj[:,k],utraj[k])\n",
    "    end\n",
    "    J += terminal_cost(xtraj[:,Nt])\n",
    "    return J\n",
    "end"
   ]
  },
  {
   "cell_type": "code",
   "execution_count": null,
   "metadata": {},
   "outputs": [],
   "source": [
    "function backward_pass!(p,P,d,K)\n",
    "    \n",
    "    ΔJ = 0.0\n",
    "    p[:,Nt] .= Qn*(xtraj[:,Nt]-xgoal)\n",
    "    P[:,:,Nt] .= Qn\n",
    "    \n",
    "    for k = (Nt-1):-1:1\n",
    "        #Calculate derivatives\n",
    "        q = Q*(xtraj[:,k]-xgoal)\n",
    "        r = R*utraj[k]\n",
    "    \n",
    "        A = dfdx(xtraj[:,k], utraj[k])\n",
    "        B = dfdu(xtraj[:,k], utraj[k])\n",
    "    \n",
    "        gx = q + A'*p[:,k+1]\n",
    "        gu = r + B'*p[:,k+1]\n",
    "    \n",
    "        #iLQR (Gauss-Newton) version\n",
    "        Gxx = Q + A'*P[:,:,k+1]*A\n",
    "        Guu = R + B'*P[:,:,k+1]*B\n",
    "        Gxu = A'*P[:,:,k+1]*B\n",
    "        Gux = B'*P[:,:,k+1]*A\n",
    "        \n",
    "        #DDP (full Newton) version\n",
    "        #Ax = dAdx(xtraj[:,k], utraj[k])\n",
    "        #Bx = dBdx(xtraj[:,k], utraj[k])\n",
    "        #Au = dAdu(xtraj[:,k], utraj[k])\n",
    "        #Bu = dBdu(xtraj[:,k], utraj[k])\n",
    "        #Gxx = Q + A'*P[:,:,k+1]*A + kron(p[:,k+1]',I(Nx))*comm(Nx,Nx)*Ax\n",
    "        #Guu = R + B'*P[:,:,k+1]*B + (kron(p[:,k+1]',I(Nu))*comm(Nx,Nu)*Bu)[1]\n",
    "        #Gxu = A'*P[:,:,k+1]*B + kron(p[:,k+1]',I(Nx))*comm(Nx,Nx)*Au\n",
    "        #Gux = B'*P[:,:,k+1]*A + kron(p[:,k+1]',I(Nu))*comm(Nx,Nu)*Bx\n",
    "        \n",
    "        #β = 0.1\n",
    "        #while !isposdef(Symmetric([Gxx Gxu; Gux Guu]))\n",
    "        #    Gxx += β*I\n",
    "        #    Guu += β*I\n",
    "        #    β = 2*β\n",
    "        #    display(\"regularizing G\")\n",
    "        #    display(β)\n",
    "        #end\n",
    "        \n",
    "        d[k] = Guu\\gu\n",
    "        K[:,:,k] .= Guu\\Gux\n",
    "    \n",
    "        #p[:,k] .= dropdims(gx - K[:,:,k]'*gu + K[:,:,k]'*Guu*d[k] - Gxu*d[k], dims=2)\n",
    "        p[:,k] = gx - K[:,:,k]'*gu + K[:,:,k]'*Guu*d[k] - Gxu*d[k]\n",
    "        P[:,:,k] .= Gxx + K[:,:,k]'*Guu*K[:,:,k] - Gxu*K[:,:,k] - K[:,:,k]'*Gux\n",
    "    \n",
    "        ΔJ += gu'*d[k]\n",
    "    end\n",
    "    \n",
    "    return ΔJ\n",
    "end"
   ]
  },
  {
   "cell_type": "code",
   "execution_count": null,
   "metadata": {},
   "outputs": [],
   "source": [
    "#Initial guess\n",
    "x0 = [-pi/2; 0; 0; 0]\n",
    "xgoal = [pi/2; 0; 0; 0]\n",
    "xtraj = kron(ones(1,Nt), x0)\n",
    "utraj = randn(Nt-1);\n",
    "#f = jldopen(\"guess.jld2\", \"r\")\n",
    "#utraj = f[\"utraj\"];"
   ]
  },
  {
   "cell_type": "code",
   "execution_count": null,
   "metadata": {},
   "outputs": [],
   "source": [
    "#Initial Rollout\n",
    "for k = 1:(Nt-1)\n",
    "    xtraj[:,k+1] .= dynamics_rk4(xtraj[:,k],utraj[k])\n",
    "end\n",
    "J = cost(xtraj,utraj)"
   ]
  },
  {
   "cell_type": "code",
   "execution_count": null,
   "metadata": {},
   "outputs": [],
   "source": [
    "#DDP Algorithm\n",
    "using Printf\n",
    "p = ones(Nx,Nt)\n",
    "P = zeros(Nx,Nx,Nt)\n",
    "d = ones(Nt-1)\n",
    "K = zeros(Nu,Nx,Nt-1)\n",
    "ΔJ = 0.0\n",
    "\n",
    "xn = zeros(Nx,Nt)\n",
    "un = zeros(Nt-1)\n",
    "\n",
    "gx = zeros(Nx)\n",
    "gu = 0.0\n",
    "Gxx = zeros(Nx,Nx)\n",
    "Guu = 0.0\n",
    "Gxu = zeros(Nx)\n",
    "Gux = zeros(Nx)\n",
    "\n",
    "iter = 0\n",
    "while maximum(abs.(d[:])) >  1e-3\n",
    "    iter += 1    \n",
    "    \n",
    "    #Backward Pass\n",
    "    ΔJ = backward_pass!(p,P,d,K)\n",
    "\n",
    "    #Forward rollout with line search\n",
    "    xn[:,1] = xtraj[:,1]\n",
    "    α = 1.0\n",
    "    for k = 1:(Nt-1)\n",
    "        un[k] = utraj[k] - α*d[k] - dot(K[:,:,k],xn[:,k]-xtraj[:,k])\n",
    "        xn[:,k+1] .= dynamics_rk4(xn[:,k],un[k])\n",
    "    end\n",
    "    Jn = cost(xn,un)\n",
    "    \n",
    "    while isnan(Jn) || Jn > (J - 1e-2*α*ΔJ)\n",
    "        α = 0.5*α\n",
    "        for k = 1:(Nt-1)\n",
    "            un[k] = utraj[k] - α*d[k] - dot(K[:,:,k],xn[:,k]-xtraj[:,k])\n",
    "            xn[:,k+1] .= dynamics_rk4(xn[:,k],un[k])\n",
    "        end\n",
    "        Jn = cost(xn,un)\n",
    "    end\n",
    "\n",
    "    # logging\n",
    "    if rem(iter - 1, 100) == 0\n",
    "        @printf \"iter     J           ΔJ        |d|         α       \\n\"\n",
    "        @printf \"---------------------------------------------------\\n\"\n",
    "    end\n",
    "    if rem(iter - 1, 10) == 0 \n",
    "        @printf(\"%3d   %10.3e  %9.2e  %9.2e  %6.4f  \\n\",\n",
    "              iter, J, ΔJ, maximum(abs.(d[:])), α)\n",
    "    end\n",
    "    \n",
    "    J = Jn\n",
    "    xtraj .= xn\n",
    "    utraj .= un\n",
    "end"
   ]
  },
  {
   "cell_type": "code",
   "execution_count": null,
   "metadata": {},
   "outputs": [],
   "source": [
    "plot(thist,xtraj[1,:])\n",
    "plot(thist,xtraj[2,:])"
   ]
  },
  {
   "cell_type": "code",
   "execution_count": null,
   "metadata": {},
   "outputs": [],
   "source": [
    "plot(thist[1:Nt-1],utraj)"
   ]
  },
  {
   "cell_type": "code",
   "execution_count": null,
   "metadata": {},
   "outputs": [],
   "source": [
    "# Acrobot (doublependulum)\n",
    "import MeshCat as mc\n",
    "using Colors\n",
    "\n",
    "function RotX(alpha)\n",
    "    c, s = cos(alpha), sin(alpha)\n",
    "    [1 0 0; 0 c -s; 0 s  c]\n",
    "end\n",
    "\n",
    "function create_acrobot!(vis, color=colorant\"blue\", thick=0.05)\n",
    "    l1,l2 = [1.,1.]\n",
    "    hinge = mc.Cylinder(mc.Point(-0.05,0,0), mc.Point(0.05,0,0), 0.05)\n",
    "    dim1  = mc.Vec(thick, thick, l1)\n",
    "    link1 = mc.HyperRectangle(mc.Vec(-thick/2,-thick/2,0),dim1)\n",
    "    dim2  = mc.Vec(thick, thick, l2)\n",
    "    link2 = mc.HyperRectangle(mc.Vec(-thick/2,-thick/2,0),dim2)\n",
    "    mat1 = mc.MeshPhongMaterial(color=colorant\"grey\")\n",
    "    mat2 = mc.MeshPhongMaterial(color=color)\n",
    "    mc.setobject!(vis[\"base\"], hinge, mat1) \n",
    "    mc.setobject!(vis[\"link1\"], link1, mat2) \n",
    "    mc.setobject!(vis[\"link1\",\"joint\"], hinge, mat1) \n",
    "    mc.setobject!(vis[\"link1\",\"link2\"], link2, mat2) \n",
    "    mc.settransform!(vis[\"link1\",\"link2\"], mc.Translation(0,0,l1))\n",
    "    mc.settransform!(vis[\"link1\",\"joint\"], mc.Translation(0,0,l1))\n",
    "end\n",
    "\n",
    "function update_acro_pose!(vis, x)\n",
    "    l1, l2 = [1, 1.]\n",
    "    mc.settransform!(vis[\"robot\",\"link1\"], mc.LinearMap(RotX(x[1]-pi/2)))\n",
    "    mc.settransform!(vis[\"robot\",\"link1\",\"link2\"], mc.compose(mc.Translation(0,0,l1), mc.LinearMap(RotX(x[2]))))\n",
    "end\n",
    "\n",
    "function animate_acrobot(X, dt)\n",
    "    vis = mc.Visualizer()\n",
    "    create_acrobot!(vis[\"robot\"])\n",
    "    anim = mc.Animation(vis; fps=floor(Int,1/dt))\n",
    "    for k = 1:length(X)\n",
    "        mc.atframe(anim, k) do\n",
    "            update_acro_pose!(vis,X[k])\n",
    "        end\n",
    "    end\n",
    "    mc.setanimation!(vis, anim)\n",
    "    return mc.render(vis)\n",
    "end"
   ]
  },
  {
   "cell_type": "code",
   "execution_count": null,
   "metadata": {},
   "outputs": [],
   "source": [
    "X1 = [Vector(x) for x in eachcol(xtraj)];\n",
    "animate_acrobot(X1, h)"
   ]
  },
  {
   "cell_type": "code",
   "execution_count": null,
   "metadata": {},
   "outputs": [],
   "source": []
  },
  {
   "cell_type": "code",
   "execution_count": null,
   "metadata": {},
   "outputs": [],
   "source": []
  }
 ],
 "metadata": {
  "kernelspec": {
   "display_name": "Julia 1.10.8",
   "language": "julia",
   "name": "julia-1.10"
  },
  "language_info": {
   "file_extension": ".jl",
   "mimetype": "application/julia",
   "name": "julia",
   "version": "1.10.8"
  }
 },
 "nbformat": 4,
 "nbformat_minor": 4
}
