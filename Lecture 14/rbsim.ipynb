{
 "cells": [
  {
   "cell_type": "code",
   "execution_count": null,
   "id": "852cc810-f6dc-400d-b9e3-be8274023446",
   "metadata": {},
   "outputs": [],
   "source": [
    "import Pkg; Pkg.activate(@__DIR__); Pkg.instantiate()"
   ]
  },
  {
   "cell_type": "code",
   "execution_count": null,
   "id": "3b4881e0-e594-4800-b9b2-9ce861d9c0cb",
   "metadata": {},
   "outputs": [],
   "source": [
    "using LinearAlgebra\n",
    "using ForwardDiff"
   ]
  },
  {
   "cell_type": "code",
   "execution_count": null,
   "id": "e5fcb4bf-a045-4910-8532-4ccce3dfd0bc",
   "metadata": {},
   "outputs": [],
   "source": [
    "function hat(v)\n",
    "    return [0 -v[3] v[2];\n",
    "            v[3] 0 -v[1];\n",
    "            -v[2] v[1] 0]\n",
    "end"
   ]
  },
  {
   "cell_type": "code",
   "execution_count": null,
   "id": "df940483-86ce-4cef-ae3f-e3f67f3e3ae5",
   "metadata": {},
   "outputs": [],
   "source": [
    "function L(q)\n",
    "    s = q[1]\n",
    "    v = q[2:4]\n",
    "    L = [s    -v';\n",
    "         v  s*I+hat(v)]\n",
    "    return L\n",
    "end"
   ]
  },
  {
   "cell_type": "code",
   "execution_count": null,
   "id": "f369ce00-cd8e-4170-8918-acf5aad604b2",
   "metadata": {},
   "outputs": [],
   "source": [
    "function R(q)\n",
    "    s = q[1]\n",
    "    v = q[2:4]\n",
    "    R = [s    -v';\n",
    "         v  s*I-hat(v)]\n",
    "    return R\n",
    "end"
   ]
  },
  {
   "cell_type": "code",
   "execution_count": null,
   "id": "37243558-83b9-4b33-b5d9-21f3468a6c58",
   "metadata": {},
   "outputs": [],
   "source": [
    "T = Diagonal([1; -ones(3)])\n",
    "H = [zeros(1,3); I];"
   ]
  },
  {
   "cell_type": "code",
   "execution_count": null,
   "id": "415243be-a32b-48c9-b052-254c1da2a193",
   "metadata": {},
   "outputs": [],
   "source": [
    "function G(q)\n",
    "    G = L(q)*H\n",
    "end\n",
    "\n",
    "function Q(q)\n",
    "    return H'*(R(q)'*L(q))*H\n",
    "end"
   ]
  },
  {
   "cell_type": "code",
   "execution_count": null,
   "id": "468693dd-f4be-4b27-b4aa-d1d96a8e10a6",
   "metadata": {},
   "outputs": [],
   "source": [
    "J = Diagonal([1; 2; 3])\n",
    "h = 0.1"
   ]
  },
  {
   "cell_type": "code",
   "execution_count": null,
   "id": "0370d040-1802-4137-ac5e-c3a734fbac1b",
   "metadata": {},
   "outputs": [],
   "source": [
    "#initial conditions\n",
    "Q0 = Array(I(3))\n",
    "q0 = [1; 0; 0; 0]\n",
    "ω0 = randn(3)\n",
    "x0 = [vec(Q0); ω0]\n",
    "x0q = [q0; ω0]"
   ]
  },
  {
   "cell_type": "code",
   "execution_count": null,
   "id": "a8c05162-9c79-416c-b36d-d199a1da9684",
   "metadata": {},
   "outputs": [],
   "source": [
    "#dynamics\n",
    "function dynamics(x)\n",
    "    Q = reshape(x[1:9],3,3)\n",
    "    ω = x[10:12]\n",
    "    \n",
    "    Q̇ = Q*hat(ω)\n",
    "    ω̇ = -J\\(hat(ω)*J*ω)\n",
    "\n",
    "    ẋ = [vec(Q̇); ω̇]\n",
    "end"
   ]
  },
  {
   "cell_type": "code",
   "execution_count": null,
   "id": "a8ef3f75-5412-454b-91d1-90db2ec336e7",
   "metadata": {},
   "outputs": [],
   "source": [
    "function rkstep(x)\n",
    "    f1 = dynamics(x)\n",
    "    f2 = dynamics(x + 0.5*h*f1)\n",
    "    f3 = dynamics(x + 0.5*h*f2)\n",
    "    f4 = dynamics(x + h*f3)\n",
    "    xn = x + (h/6.0)*(f1 + 2*f2 + 2*f3 + f4)\n",
    "    return xn\n",
    "end"
   ]
  },
  {
   "cell_type": "code",
   "execution_count": null,
   "id": "d8a8b470-3cff-4a5e-9094-81494d9bf84b",
   "metadata": {},
   "outputs": [],
   "source": [
    "xk = x0\n",
    "for k = 1:10000\n",
    "    xk = rkstep(xk)\n",
    "end"
   ]
  },
  {
   "cell_type": "code",
   "execution_count": null,
   "id": "6190591d-839b-411c-9217-793aac0e507e",
   "metadata": {},
   "outputs": [],
   "source": [
    "Qk = reshape(xk[1:9],3,3)"
   ]
  },
  {
   "cell_type": "code",
   "execution_count": null,
   "id": "e6ab480e-05a4-4ef9-81cc-cfe74618fbbc",
   "metadata": {},
   "outputs": [],
   "source": [
    "Qk'*Qk"
   ]
  },
  {
   "cell_type": "code",
   "execution_count": null,
   "id": "8eaa0035-4020-4240-8215-9663b390cc7d",
   "metadata": {},
   "outputs": [],
   "source": [
    "#quaternion dynamics\n",
    "function qdynamics(x)\n",
    "    q = x[1:4]\n",
    "    ω = x[5:7]\n",
    "    \n",
    "    q̇ = 0.5*L(q)*H*ω\n",
    "    ω̇ = -J\\(hat(ω)*J*ω)\n",
    "\n",
    "    ẋ = [q̇; ω̇]\n",
    "end"
   ]
  },
  {
   "cell_type": "code",
   "execution_count": null,
   "id": "d0b295da-c058-43a1-805f-3703da5545a7",
   "metadata": {},
   "outputs": [],
   "source": [
    "function qrkstep(x)\n",
    "    f1 = qdynamics(x)\n",
    "    f2 = qdynamics(x + 0.5*h*f1)\n",
    "    f3 = qdynamics(x + 0.5*h*f2)\n",
    "    f4 = qdynamics(x + h*f3)\n",
    "    xn = x + (h/6.0)*(f1 + 2*f2 + 2*f3 + f4)\n",
    "    xn[1:4] .= xn[1:4]./norm(xn[1:4])\n",
    "    return xn\n",
    "end"
   ]
  },
  {
   "cell_type": "code",
   "execution_count": null,
   "id": "c2891453-84e3-41ec-8dc6-18bdf571a998",
   "metadata": {},
   "outputs": [],
   "source": [
    "xkq = x0q\n",
    "for k = 1:10000\n",
    "    xkq = qrkstep(xkq)\n",
    "end"
   ]
  },
  {
   "cell_type": "code",
   "execution_count": null,
   "id": "8bd11529-0930-414a-a0b5-63ac3b7e4e21",
   "metadata": {},
   "outputs": [],
   "source": [
    "qk = xkq[1:4]"
   ]
  },
  {
   "cell_type": "code",
   "execution_count": null,
   "id": "5381338f-4c0c-40ae-a24a-4b4e682dcec2",
   "metadata": {},
   "outputs": [],
   "source": [
    "norm(qk)"
   ]
  },
  {
   "cell_type": "code",
   "execution_count": null,
   "id": "868e6bbc-18b4-4f89-8494-aa84e2d44649",
   "metadata": {},
   "outputs": [],
   "source": [
    "Q(qk)'*Q(qk)"
   ]
  },
  {
   "cell_type": "code",
   "execution_count": null,
   "id": "f055f150-ba90-4d42-8f2b-07a3e9de32dc",
   "metadata": {},
   "outputs": [],
   "source": []
  }
 ],
 "metadata": {
  "kernelspec": {
   "display_name": "Julia 1.10.8",
   "language": "julia",
   "name": "julia-1.10"
  },
  "language_info": {
   "file_extension": ".jl",
   "mimetype": "application/julia",
   "name": "julia",
   "version": "1.10.8"
  }
 },
 "nbformat": 4,
 "nbformat_minor": 5
}
