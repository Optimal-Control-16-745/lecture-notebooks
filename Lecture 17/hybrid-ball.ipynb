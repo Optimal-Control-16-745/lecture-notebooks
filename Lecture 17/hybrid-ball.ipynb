{
 "cells": [
  {
   "cell_type": "code",
   "execution_count": null,
   "metadata": {},
   "outputs": [],
   "source": [
    "import Pkg; Pkg.activate(@__DIR__); Pkg.instantiate()"
   ]
  },
  {
   "cell_type": "code",
   "execution_count": null,
   "metadata": {},
   "outputs": [],
   "source": [
    "using LinearAlgebra\n",
    "using PyPlot"
   ]
  },
  {
   "cell_type": "code",
   "execution_count": null,
   "metadata": {},
   "outputs": [],
   "source": [
    "#Continuous Dynamics\n",
    "function dynamics(x)\n",
    "    g = 9.81\n",
    "    \n",
    "    r = x[1:2]\n",
    "    v = x[3:4]\n",
    "    \n",
    "    v̇ = [0; -g]\n",
    "    \n",
    "    xdot = [v; v̇]\n",
    "end"
   ]
  },
  {
   "cell_type": "code",
   "execution_count": null,
   "metadata": {},
   "outputs": [],
   "source": [
    "function dynamics_rk4(x)\n",
    "    #RK4 integration with zero-order hold on u\n",
    "    f1 = dynamics(x)\n",
    "    f2 = dynamics(x + 0.5*h*f1)\n",
    "    f3 = dynamics(x + 0.5*h*f2)\n",
    "    f4 = dynamics(x + h*f3)\n",
    "    return x + (h/6.0)*(f1 + 2*f2 + 2*f3 + f4)\n",
    "end"
   ]
  },
  {
   "cell_type": "code",
   "execution_count": null,
   "metadata": {},
   "outputs": [],
   "source": [
    "#guard function\n",
    "function guard(x)\n",
    "    return x[2]\n",
    "end"
   ]
  },
  {
   "cell_type": "code",
   "execution_count": null,
   "metadata": {},
   "outputs": [],
   "source": [
    "#jump map\n",
    "function jump(x)\n",
    "    #Flip sign of vertical component of velocity and multiply by coefficient of restitution\n",
    "    γ = 0.9\n",
    "    xn = [x[1]; 0.0; x[3]; -γ*x[4]]\n",
    "end"
   ]
  },
  {
   "cell_type": "code",
   "execution_count": null,
   "metadata": {},
   "outputs": [],
   "source": [
    "#Initial Conditions\n",
    "r0 = [0; 1.0]\n",
    "v0 = [1.0; 0]\n",
    "x0 = [r0; v0];"
   ]
  },
  {
   "cell_type": "code",
   "execution_count": null,
   "metadata": {},
   "outputs": [],
   "source": [
    "#Simulate\n",
    "Nx = 4\n",
    "h = 0.01 #100 Hz\n",
    "Tfinal = 3.0 # final time\n",
    "Nt = Int(Tfinal/h)+1   # number of time steps\n",
    "thist = Array(range(0,h*(Nt-1), step=h));\n",
    "xhist = zeros(Nx,Nt)\n",
    "xhist[:,1] = x0\n",
    "for k = 1:(Nt-1)\n",
    "    xhist[:,k+1] = dynamics_rk4(xhist[:,k])\n",
    "    if guard(xhist[:,k+1]) <= 0\n",
    "        #interpolate back to guard=0\n",
    "        \n",
    "        xhist[:,k+1] = jump(xhist[:,k+1])\n",
    "    end \n",
    "end"
   ]
  },
  {
   "cell_type": "code",
   "execution_count": null,
   "metadata": {},
   "outputs": [],
   "source": [
    "plot(xhist[1,:],xhist[2,:])"
   ]
  },
  {
   "cell_type": "code",
   "execution_count": null,
   "metadata": {},
   "outputs": [],
   "source": [
    "plot(xhist[4,:])"
   ]
  },
  {
   "cell_type": "code",
   "execution_count": null,
   "metadata": {},
   "outputs": [],
   "source": []
  }
 ],
 "metadata": {
  "kernelspec": {
   "display_name": "Julia 1.10.8",
   "language": "julia",
   "name": "julia-1.10"
  },
  "language_info": {
   "file_extension": ".jl",
   "mimetype": "application/julia",
   "name": "julia",
   "version": "1.10.8"
  }
 },
 "nbformat": 4,
 "nbformat_minor": 4
}
