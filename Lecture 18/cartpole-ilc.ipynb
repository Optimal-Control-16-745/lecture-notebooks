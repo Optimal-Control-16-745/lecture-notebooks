{
 "cells": [
  {
   "cell_type": "code",
   "execution_count": null,
   "metadata": {},
   "outputs": [],
   "source": [
    "import Pkg; Pkg.activate(@__DIR__); Pkg.instantiate()"
   ]
  },
  {
   "cell_type": "code",
   "execution_count": null,
   "metadata": {},
   "outputs": [],
   "source": [
    "using TrajectoryOptimization\n",
    "using RobotDynamics\n",
    "const RD = RobotDynamics\n",
    "import RobotZoo.Cartpole\n",
    "using StaticArrays\n",
    "using SparseArrays\n",
    "using LinearAlgebra\n",
    "using ForwardDiff\n",
    "using PyPlot\n",
    "using OSQP"
   ]
  },
  {
   "cell_type": "code",
   "execution_count": null,
   "metadata": {},
   "outputs": [],
   "source": [
    "model = Cartpole()\n",
    "n,m = size(model);"
   ]
  },
  {
   "cell_type": "code",
   "execution_count": null,
   "metadata": {},
   "outputs": [],
   "source": [
    "N = 101\n",
    "Tf = 5.\n",
    "h = Tf/(N-1)"
   ]
  },
  {
   "cell_type": "code",
   "execution_count": null,
   "metadata": {},
   "outputs": [],
   "source": [
    "x0 = @SVector zeros(n)\n",
    "xf = @SVector [0, pi, 0, 0];  # i.e. swing up"
   ]
  },
  {
   "cell_type": "code",
   "execution_count": null,
   "metadata": {},
   "outputs": [],
   "source": [
    "# Set up\n",
    "Q = 1.0*Diagonal(@SVector ones(n))\n",
    "Qf = 100.0*Diagonal(@SVector ones(n))\n",
    "R = 0.1*Diagonal(@SVector ones(m))\n",
    "obj = LQRObjective(Q,R,Qf,xf,N);"
   ]
  },
  {
   "cell_type": "code",
   "execution_count": null,
   "metadata": {},
   "outputs": [],
   "source": [
    "# Create Empty ConstraintList\n",
    "conSet = ConstraintList(n,m,N)\n",
    "\n",
    "# Control Bounds\n",
    "u_bnd = 5.0\n",
    "bnd = BoundConstraint(n,m, u_min=-u_bnd, u_max=u_bnd)\n",
    "add_constraint!(conSet, bnd, 1:N-1)\n",
    "\n",
    "# Goal Constraint\n",
    "goal = GoalConstraint(xf)\n",
    "add_constraint!(conSet, goal, (N-5):N)"
   ]
  },
  {
   "cell_type": "code",
   "execution_count": null,
   "metadata": {},
   "outputs": [],
   "source": [
    "prob = Problem(model, obj, x0, Tf, xf=xf, constraints=conSet);"
   ]
  },
  {
   "cell_type": "code",
   "execution_count": null,
   "metadata": {},
   "outputs": [],
   "source": [
    "u0 = @SVector fill(0.0,m)\n",
    "U0 = [u0 for k = 1:N-1]\n",
    "initial_controls!(prob, U0)\n",
    "rollout!(prob);"
   ]
  },
  {
   "cell_type": "code",
   "execution_count": null,
   "metadata": {},
   "outputs": [],
   "source": [
    "using Altro\n",
    "opts = SolverOptions(\n",
    "    cost_tolerance_intermediate=1e-3,\n",
    "    penalty_scaling=10.,\n",
    "    penalty_initial=1.0\n",
    ")\n",
    "\n",
    "altro = ALTROSolver(prob, opts)\n",
    "set_options!(altro, show_summary=true)\n",
    "solve!(altro);"
   ]
  },
  {
   "cell_type": "code",
   "execution_count": null,
   "metadata": {},
   "outputs": [],
   "source": [
    "# Extract the solution\n",
    "Xopt = states(altro);\n",
    "Uopt = controls(altro);\n",
    "\n",
    "xnom = zeros(n,N)\n",
    "for k = 1:N\n",
    "    xnom[:,k] .= Xopt[k]\n",
    "end\n",
    "\n",
    "unom = zeros(m,N-1)\n",
    "utraj = zeros(m,N-1)\n",
    "for k = 1:N-1\n",
    "    unom[:,k] .= Uopt[k]\n",
    "    utraj[:,k] .= Uopt[k]\n",
    "end"
   ]
  },
  {
   "cell_type": "code",
   "execution_count": null,
   "metadata": {},
   "outputs": [],
   "source": [
    "function dynamics_rk4(x, u)\n",
    "    #RK4 integration with zero-order hold on u\n",
    "    f1 = RD.dynamics(model, x, u)\n",
    "    f2 = RD.dynamics(model, x + 0.5*h*f1, u)\n",
    "    f3 = RD.dynamics(model, x + 0.5*h*f2, u)\n",
    "    f4 = RD.dynamics(model, x + h*f3, u)\n",
    "    return x + (h/6.0)*(f1 + 2*f2 + 2*f3 + f4)\n",
    "end\n",
    "\n",
    "#True model with friction\n",
    "function true_dynamics(model::Cartpole, x, u)\n",
    "    #Perturb masses of cart + pole\n",
    "    mc = model.mc + 0.02\n",
    "    mp = model.mp - 0.01\n",
    "    \n",
    "    #Perturb length of pendulum\n",
    "    l = model.l + 0.005\n",
    "    g = model.g\n",
    "\n",
    "    q = x[ @SVector [1,2] ]\n",
    "    qd = x[ @SVector [3,4] ]\n",
    "\n",
    "    s = sin(q[2])\n",
    "    c = cos(q[2])\n",
    "\n",
    "    H = @SMatrix [mc+mp mp*l*c; mp*l*c mp*l^2]\n",
    "    C = @SMatrix [0 -mp*qd[2]*l*s; 0 0]\n",
    "    G = @SVector [0, mp*g*l*s]\n",
    "    B = @SVector [1, 0]\n",
    "    \n",
    "    F = [0.01; 0.01].*tanh.(5.0*qd) #nonlinear friction (≈Coulomb/stiction)\n",
    "\n",
    "    qdd = -H\\(C*qd + F + G - B*u[1])\n",
    "    return [qd; qdd]\n",
    "end\n",
    "\n",
    "function true_dynamics_rk4(x,u)\n",
    "    #RK4 integration with zero-order hold on u\n",
    "    f1 = true_dynamics(model, x, u)\n",
    "    f2 = true_dynamics(model, x + 0.5*h*f1, u)\n",
    "    f3 = true_dynamics(model, x + 0.5*h*f2, u)\n",
    "    f4 = true_dynamics(model, x + h*f3, u)\n",
    "    return x + (h/6.0)*(f1 + 2*f2 + 2*f3 + f4)\n",
    "end"
   ]
  },
  {
   "cell_type": "code",
   "execution_count": null,
   "metadata": {},
   "outputs": [],
   "source": [
    "#Compute A and B matrices using nominal dynamics + trajectory\n",
    "A = zeros(n,n,N-1)\n",
    "B = zeros(n,m,N-1)\n",
    "for k = 1:(N-1)\n",
    "    A[:,:,k] .= ForwardDiff.jacobian(x->dynamics_rk4(x,Uopt[k]),Xopt[k])\n",
    "    B[:,:,k] .= ForwardDiff.jacobian(u->dynamics_rk4(Xopt[k],u),Uopt[k])\n",
    "end"
   ]
  },
  {
   "cell_type": "code",
   "execution_count": null,
   "metadata": {},
   "outputs": [],
   "source": [
    "#Compute LQR Tracking Controller\n",
    "P = zeros(n,n,N)\n",
    "K = zeros(m,n,N-1)\n",
    "P[:,:,N] = Qf\n",
    "for k = (N-1):-1:1\n",
    "    K[:,:,k] .= (R + B[:,:,k]'*P[:,:,k+1]*B[:,:,k])\\(B[:,:,k]'*P[:,:,k+1]*A[:,:,k])\n",
    "    P[:,:,k] .= Q + K[:,:,k]'*R*K[:,:,k] + (A[:,:,k]-B[:,:,k]*K[:,:,k])'*P[:,:,k+1]*(A[:,:,k]-B[:,:,k]*K[:,:,k])\n",
    "end"
   ]
  },
  {
   "cell_type": "code",
   "execution_count": null,
   "metadata": {},
   "outputs": [],
   "source": [
    "#Rollout with true dynamics\n",
    "xtraj = zeros(n,N)\n",
    "for k = 1:(N-1)\n",
    "    #utraj[:,k] .= unom[:,k] - K[:,:,k]*(xtraj[:,k]-xnom[:,k]) #with LQR tracking controller\n",
    "    #utraj[:,k] .= min.(u_bnd, max.(-u_bnd, utraj[:,k])) #clip values within torque limits\n",
    "    xtraj[:,k+1] .= true_dynamics_rk4(xtraj[:,k], utraj[:,k])\n",
    "end"
   ]
  },
  {
   "cell_type": "code",
   "execution_count": null,
   "metadata": {},
   "outputs": [],
   "source": [
    "plot(xtraj[1,:])\n",
    "plot(xnom[1,:])"
   ]
  },
  {
   "cell_type": "code",
   "execution_count": null,
   "metadata": {},
   "outputs": [],
   "source": [
    "plot(xtraj[2,:])\n",
    "plot(xnom[2,:])"
   ]
  },
  {
   "cell_type": "code",
   "execution_count": null,
   "metadata": {},
   "outputs": [],
   "source": [
    "plot(utraj[1,:])\n",
    "plot(Uopt[:])"
   ]
  },
  {
   "cell_type": "code",
   "execution_count": null,
   "metadata": {},
   "outputs": [],
   "source": [
    "#Build matrices for ILC QP\n",
    "Nh = N\n",
    "#Cost\n",
    "Qilc = sparse(Diagonal([0.01; 0; 1.0; 0]))\n",
    "Rilc = sparse(Diagonal([.1]))\n",
    "H = blockdiag(kron(I(Nh-2), blockdiag(Rilc, Qilc)), Rilc, sparse(Qf))\n",
    "q = zeros((n+m)*(Nh-1))\n",
    "for k = 1:(Nh-2)\n",
    "    q[(k-1)*(m+n) .+ (1:(m+n))] .= [0.0; Qilc*(xtraj[:,k+1]-Xopt[k+1])]\n",
    "end\n",
    "q[(Nh-2)*(m+n) .+ (1:(m+n))] .= [0.0; Qf*(xtraj[:,Nh]-Xopt[Nh])]\n",
    "\n",
    "#Constraints\n",
    "U = kron(I(Nh-1), [I zeros(m,n)]) #Matrix that picks out all u\n",
    "X = kron(I(Nh-1), [zeros(n,m) I]) #Matrix that picks out all x\n",
    "D = spzeros(n*(Nh-1), (n+m)*(Nh-1)) #dynamics constraints\n",
    "\n",
    "D[1:n,1:m] .= B[:,:,1]\n",
    "D[1:n,(m+1):(m+n)] .= -I(n)\n",
    "for k = 1:(Nh-2)\n",
    "    D[(k*n).+(1:n), (m+(k-1)*(n+m)).+(1:(2*n+m))] .= [A[:,:,k+1] B[:,:,k+1] -I]\n",
    "end\n",
    "\n",
    "lb = [zeros(n*(Nh-1)); -u_bnd.-utraj[1:(Nh-1)]]\n",
    "ub = [zeros(n*(Nh-1)); u_bnd.-utraj[1:(Nh-1)]]\n",
    "\n",
    "qp = OSQP.Model()\n",
    "OSQP.setup!(qp, P=H, q=q, A=[D; U], l=lb, u=ub, eps_abs=1e-6, eps_rel=1e-6, eps_prim_inf = 1.0e-6, eps_dual_inf = 1.0e-6, polish=1)\n",
    "results = OSQP.solve!(qp)\n",
    "ztraj = results.x;"
   ]
  },
  {
   "cell_type": "code",
   "execution_count": null,
   "metadata": {},
   "outputs": [],
   "source": [
    "Δu = U*ztraj\n",
    "utraj[1:(Nh-1)] .= utraj[1:(Nh-1)]+Δu"
   ]
  },
  {
   "cell_type": "code",
   "execution_count": null,
   "metadata": {},
   "outputs": [],
   "source": []
  },
  {
   "cell_type": "code",
   "execution_count": null,
   "metadata": {},
   "outputs": [],
   "source": []
  }
 ],
 "metadata": {
  "kernelspec": {
   "display_name": "Julia 1.10.9",
   "language": "julia",
   "name": "julia-1.10"
  },
  "language_info": {
   "file_extension": ".jl",
   "mimetype": "application/julia",
   "name": "julia",
   "version": "1.10.9"
  }
 },
 "nbformat": 4,
 "nbformat_minor": 4
}
