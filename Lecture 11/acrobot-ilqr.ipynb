{
 "cells": [
  {
   "cell_type": "code",
   "execution_count": null,
   "metadata": {},
   "outputs": [],
   "source": [
    "import Pkg; Pkg.activate(@__DIR__); Pkg.instantiate()"
   ]
  },
  {
   "cell_type": "code",
   "execution_count": null,
   "metadata": {},
   "outputs": [],
   "source": [
    "using LinearAlgebra\n",
    "using PyPlot\n",
    "using ForwardDiff\n",
    "using MeshCat"
   ]
  },
  {
   "cell_type": "code",
   "execution_count": null,
   "metadata": {},
   "outputs": [],
   "source": [
    "function acrobot_dynamics(x, u)\n",
    "    g = 9.81\n",
    "    m1,m2 = [1.,1.]\n",
    "    l1,l2 = [1.,1.]\n",
    "    J1,J2 = [1.,1.]\n",
    "    θ1,    θ2    = x[1], x[2]\n",
    "    θ1dot, θ2dot = x[3], x[4]\n",
    "    s1,c1 = sincos(θ1)\n",
    "    s2,c2 = sincos(θ2)\n",
    "    c12 = cos(θ1 + θ2)\n",
    "\n",
    "    # mass matrix\n",
    "    m11 = m1*l1^2 + J1 + m2*(l1^2 + l2^2 + 2*l1*l2*c2) + J2\n",
    "    m12 = m2*(l2^2 + l1*l2*c2 + J2)\n",
    "    m22 = l2^2*m2 + J2\n",
    "    M = [m11 m12; m12 m22]\n",
    "\n",
    "    # bias term\n",
    "    tmp = l1*l2*m2*s2\n",
    "    b1 = -(2 * θ1dot * θ2dot + θ2dot^2)*tmp\n",
    "    b2 = tmp * θ1dot^2\n",
    "    B = [b1, b2]\n",
    "\n",
    "    # friction\n",
    "    c = 1.0\n",
    "    C = [c*θ1dot, c*θ2dot]\n",
    "\n",
    "    # gravity term\n",
    "    g1 = ((m1 + m2)*l2*c1 + m2*l2*c12) * g\n",
    "    g2 = m2*l2*c12*g\n",
    "    G = [g1, g2]\n",
    "\n",
    "    # equations of motion\n",
    "    τ = [0, u[1]]\n",
    "    θddot = M\\(τ - B - G - C)\n",
    "    return [θ1dot, θ2dot, θddot[1], θddot[2]]\n",
    "end"
   ]
  },
  {
   "cell_type": "code",
   "execution_count": null,
   "metadata": {},
   "outputs": [],
   "source": [
    "function dynamics_rk4(x,u)\n",
    "    #RK4 integration with zero-order hold on u\n",
    "    f1 = acrobot_dynamics(x, u)\n",
    "    f2 = acrobot_dynamics(x + 0.5*h*f1, u)\n",
    "    f3 = acrobot_dynamics(x + 0.5*h*f2, u)\n",
    "    f4 = acrobot_dynamics(x + h*f3, u)\n",
    "    return x + (h/6.0)*(f1 + 2*f2 + 2*f3 + f4)\n",
    "end"
   ]
  },
  {
   "cell_type": "code",
   "execution_count": null,
   "metadata": {},
   "outputs": [],
   "source": [
    "function dfdx(x,u)\n",
    "    ForwardDiff.jacobian(dx->dynamics_rk4(dx,u),x)\n",
    "end\n",
    "\n",
    "function dfdu(x,u)\n",
    "    ForwardDiff.derivative(du->dynamics_rk4(x,du),u)\n",
    "end"
   ]
  },
  {
   "cell_type": "code",
   "execution_count": null,
   "metadata": {},
   "outputs": [],
   "source": [
    "h = 0.05 # time step \n",
    "Nx = 4     # number of state\n",
    "Nu = 1     # number of controls\n",
    "Tfinal = 10.0 # final time\n",
    "Nt = Int(Tfinal/h)+1    # number of time steps\n",
    "thist = Array(range(0,h*(Nt-1), step=h));"
   ]
  },
  {
   "cell_type": "code",
   "execution_count": null,
   "metadata": {},
   "outputs": [],
   "source": [
    "# Cost weights\n",
    "Q = Diagonal([1.0*ones(2); 0.1*ones(2)]);\n",
    "R = 0.01;\n",
    "Qn = Array(100.0*I(Nx));"
   ]
  },
  {
   "cell_type": "code",
   "execution_count": null,
   "metadata": {},
   "outputs": [],
   "source": [
    "function stage_cost(x,u)\n",
    "    return 0.5*((x-xgoal)'*Q*(x-xgoal)) + 0.5*R*u*u\n",
    "end"
   ]
  },
  {
   "cell_type": "code",
   "execution_count": null,
   "metadata": {},
   "outputs": [],
   "source": [
    "function terminal_cost(x)\n",
    "    return 0.5*(x-xgoal)'*Qn*(x-xgoal)\n",
    "end"
   ]
  },
  {
   "cell_type": "code",
   "execution_count": null,
   "metadata": {},
   "outputs": [],
   "source": [
    "function cost(xtraj,utraj)\n",
    "    J = 0.0\n",
    "    for k = 1:(Nt-1)\n",
    "        J += stage_cost(xtraj[:,k],utraj[k])\n",
    "    end\n",
    "    J += terminal_cost(xtraj[:,Nt])\n",
    "    return J\n",
    "end"
   ]
  },
  {
   "cell_type": "code",
   "execution_count": null,
   "metadata": {},
   "outputs": [],
   "source": [
    "#Initial guess\n",
    "x0 = [-pi/2; 0; 0; 0]\n",
    "xgoal = [pi/2; 0; 0; 0]\n",
    "xtraj = kron(ones(1,Nt), x0)\n",
    "utraj = randn(Nt-1);"
   ]
  },
  {
   "cell_type": "code",
   "execution_count": null,
   "metadata": {},
   "outputs": [],
   "source": [
    "#Initial Rollout\n",
    "for k = 1:(Nt-1)\n",
    "    xtraj[:,k+1] .= dynamics_rk4(xtraj[:,k],utraj[k])\n",
    "end\n",
    "J = cost(xtraj,utraj)"
   ]
  },
  {
   "cell_type": "code",
   "execution_count": null,
   "metadata": {},
   "outputs": [],
   "source": [
    "#DDP Algorithm\n",
    "using Printf\n",
    "p = zeros(Nx,Nt)\n",
    "P = zeros(Nx,Nx,Nt)\n",
    "d = ones(Nt-1)\n",
    "K = zeros(Nu,Nx,Nt-1)\n",
    "ΔJ = 0.0\n",
    "\n",
    "xn = zeros(Nx,Nt)\n",
    "un = zeros(Nt-1)\n",
    "\n",
    "gx = zeros(Nx)\n",
    "gu = 0.0\n",
    "Gxx = zeros(Nx,Nx)\n",
    "Guu = 0.0\n",
    "Gxu = zeros(Nx)\n",
    "Gux = zeros(Nx)\n",
    "\n",
    "iter = 0\n",
    "while maximum(abs.(d[:])) > 1e-3\n",
    "    iter += 1\n",
    "    \n",
    "    p = zeros(Nx,Nt)\n",
    "    P = zeros(Nx,Nx,Nt)\n",
    "    d = ones(Nt-1)\n",
    "    K = zeros(Nu,Nx,Nt-1)\n",
    "    ΔJ = 0.0\n",
    "\n",
    "    p[:,Nt] = Qn*(xtraj[:,Nt]-xgoal)\n",
    "    P[:,:,Nt] = Qn\n",
    "    \n",
    "    #Backward Pass\n",
    "    for k = (Nt-1):-1:1\n",
    "        #Calculate derivatives\n",
    "        q = Q*(xtraj[:,k]-xgoal)\n",
    "        r = R*utraj[k]\n",
    "    \n",
    "        A = dfdx(xtraj[:,k], utraj[k])\n",
    "        B = dfdu(xtraj[:,k], utraj[k])\n",
    "    \n",
    "        gx = q + A'*p[:,k+1]\n",
    "        gu = r + B'*p[:,k+1]\n",
    "    \n",
    "        Gxx = Q + A'*P[:,:,k+1]*A \n",
    "        Guu = R + B'*P[:,:,k+1]*B \n",
    "        Gxu = A'*P[:,:,k+1]*B \n",
    "        Gux = B'*P[:,:,k+1]*A\n",
    "        \n",
    "        d[k] = Guu\\gu\n",
    "        K[:,:,k] = Guu\\Gux\n",
    "    \n",
    "\n",
    "        p[:,k] = gx - K[:,:,k]'*gu + K[:,:,k]'*Guu*d[k] - Gxu*d[k]\n",
    "        P[:,:,k] = Gxx + K[:,:,k]'*Guu*K[:,:,k] - Gxu*K[:,:,k] - K[:,:,k]'*Gux\n",
    "    \n",
    "        ΔJ += gu'*d[k]\n",
    "    end\n",
    "\n",
    "    #Forward rollout with line search\n",
    "    xn[:,1] = xtraj[:,1]\n",
    "    α = 1.0\n",
    "    for k = 1:(Nt-1)\n",
    "        un[k] = utraj[k] - α*d[k] - dot(K[:,:,k],xn[:,k]-xtraj[:,k])\n",
    "        xn[:,k+1] .= dynamics_rk4(xn[:,k],un[k])\n",
    "    end\n",
    "    Jn = cost(xn,un)\n",
    "    \n",
    "    while isnan(Jn) || Jn > (J - 1e-2*α*ΔJ)\n",
    "        α = 0.5*α\n",
    "        for k = 1:(Nt-1)\n",
    "            un[k] = utraj[k] - α*d[k] - dot(K[:,:,k],xn[:,k]-xtraj[:,k])\n",
    "            xn[:,k+1] = dynamics_rk4(xn[:,k],un[k])\n",
    "        end\n",
    "        Jn = cost(xn,un)\n",
    "    end\n",
    "    \n",
    "    # logging\n",
    "    if rem(iter - 1, 100) == 0\n",
    "        @printf \"iter     J           ΔJ        |d|         α       \\n\"\n",
    "        @printf \"---------------------------------------------------\\n\"\n",
    "    end\n",
    "    if rem(iter - 1, 10) == 0 \n",
    "        @printf(\"%3d   %10.3e  %9.2e  %9.2e  %6.4f  \\n\",\n",
    "              iter, J, ΔJ, maximum(abs.(d[:])), α)\n",
    "    end\n",
    "    \n",
    "    J = Jn\n",
    "    xtraj .= xn\n",
    "    utraj .= un\n",
    "end"
   ]
  },
  {
   "cell_type": "code",
   "execution_count": null,
   "metadata": {},
   "outputs": [],
   "source": [
    "plot(thist,xtraj[1,:])\n",
    "plot(thist,xtraj[2,:])"
   ]
  },
  {
   "cell_type": "code",
   "execution_count": null,
   "metadata": {},
   "outputs": [],
   "source": [
    "plot(thist[1:Nt-1],utraj)"
   ]
  },
  {
   "cell_type": "code",
   "execution_count": null,
   "metadata": {},
   "outputs": [],
   "source": [
    "# Acrobot (doublependulum)\n",
    "using Colors\n",
    "function build_acrobot!(vis, color=colorant\"blue\", thick=0.05)\n",
    "    l1,l2 = [1.,1.]\n",
    "    hinge = MeshCat.Cylinder(MeshCat.Point3f(-0.05,0,0), MeshCat.Point3f(0.05,0,0), 0.05f0)\n",
    "    dim1  = MeshCat.Vec(thick, thick, l1)\n",
    "    link1 = MeshCat.HyperRectangle(MeshCat.Vec(-thick/2,-thick/2,0),dim1)\n",
    "    dim2  = MeshCat.Vec(thick, thick, l2)\n",
    "    link2 = MeshCat.HyperRectangle(MeshCat.Vec(-thick/2,-thick/2,0),dim2)\n",
    "    mat1 = MeshPhongMaterial(color=colorant\"grey\")\n",
    "    mat2 = MeshPhongMaterial(color=color)\n",
    "    setobject!(vis[\"base\"], hinge, mat1) \n",
    "    setobject!(vis[\"link1\"], link1, mat2) \n",
    "    setobject!(vis[\"link1\",\"joint\"], hinge, mat1) \n",
    "    setobject!(vis[\"link1\",\"link2\"], link2, mat2) \n",
    "    settransform!(vis[\"link1\",\"link2\"], MeshCat.Translation(0,0,l1))\n",
    "    settransform!(vis[\"link1\",\"joint\"], MeshCat.Translation(0,0,l1))\n",
    "end\n",
    "\n",
    "function RotX(alpha)\n",
    "    c, s = cos(alpha), sin(alpha)\n",
    "    [1 0 0; 0 c -s; 0 s  c]\n",
    "end\n",
    "function update_acro_pose!(vis, x)\n",
    "    l1, l2 = [1, 1.]\n",
    "    settransform!(vis[\"robot\",\"link1\"], MeshCat.LinearMap(RotX(x[1]-pi/2)))\n",
    "    settransform!(vis[\"robot\",\"link1\",\"link2\"], MeshCat.compose(MeshCat.Translation(0,0,l1), MeshCat.LinearMap(RotX(x[2]))))\n",
    "end"
   ]
  },
  {
   "cell_type": "code",
   "execution_count": null,
   "metadata": {},
   "outputs": [],
   "source": [
    "vis = Visualizer()\n",
    "build_acrobot!(vis[\"robot\"])\n",
    "anim = MeshCat.Animation(vis; fps=floor(Int, 1.0/h))\n",
    "for k = 1:Nt\n",
    "    MeshCat.atframe(anim, k) do\n",
    "        update_acro_pose!(vis, xtraj[:,k])\n",
    "    end\n",
    "end\n",
    "MeshCat.setanimation!(vis, anim)\n",
    "render(vis)"
   ]
  },
  {
   "cell_type": "code",
   "execution_count": null,
   "metadata": {},
   "outputs": [],
   "source": []
  }
 ],
 "metadata": {
  "kernelspec": {
   "display_name": "Julia 1.10.8",
   "language": "julia",
   "name": "julia-1.10"
  },
  "language_info": {
   "file_extension": ".jl",
   "mimetype": "application/julia",
   "name": "julia",
   "version": "1.10.8"
  }
 },
 "nbformat": 4,
 "nbformat_minor": 4
}
