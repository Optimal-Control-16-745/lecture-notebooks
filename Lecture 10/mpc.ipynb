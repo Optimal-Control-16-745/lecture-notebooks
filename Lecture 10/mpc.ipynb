{
 "cells": [
  {
   "cell_type": "code",
   "execution_count": 1,
   "metadata": {},
   "outputs": [
    {
     "name": "stderr",
     "output_type": "stream",
     "text": [
      "\u001b[32m\u001b[1m  Activating\u001b[22m\u001b[39m project at `~/GitHub/Optimal-Control-16-745/lecture-notebooks/Lecture 10`\n",
      "\u001b[32m\u001b[1mPrecompiling\u001b[22m\u001b[39m packages...\n",
      "    558.2 ms\u001b[32m  ✓ \u001b[39m\u001b[90mAdapt → AdaptStaticArraysExt\u001b[39m\n",
      "    565.0 ms\u001b[32m  ✓ \u001b[39m\u001b[90mConstructionBase → ConstructionBaseStaticArraysExt\u001b[39m\n",
      "    804.3 ms\u001b[32m  ✓ \u001b[39mCoordinateTransformations\n",
      "   8254.1 ms\u001b[32m  ✓ \u001b[39m\u001b[90mHTTP\u001b[39m\n",
      "   3352.1 ms\u001b[32m  ✓ \u001b[39mMeshCat\n",
      "  5 dependencies successfully precompiled in 13 seconds. 111 already precompiled.\n",
      "  \u001b[33m1\u001b[39m dependency had output during precompilation:\u001b[33m\n",
      "┌ \u001b[39mMeshCat\u001b[33m\n",
      "│  \u001b[39m\u001b[36m\u001b[1m[ \u001b[22m\u001b[39m\u001b[36m\u001b[1mInfo: \u001b[22m\u001b[39mListening on: 127.0.0.1:8700, thread id: 1\u001b[33m\n",
      "│  \u001b[39m\u001b[36m\u001b[1m┌ \u001b[22m\u001b[39m\u001b[36m\u001b[1mInfo: \u001b[22m\u001b[39mMeshCat server started. You can open the visualizer by visiting the following URL in your browser:\u001b[33m\n",
      "│  \u001b[39m\u001b[36m\u001b[1m└ \u001b[22m\u001b[39mhttp://127.0.0.1:8700\u001b[33m\n",
      "│  \u001b[39m\u001b[36m\u001b[1m[ \u001b[22m\u001b[39m\u001b[36m\u001b[1mInfo: \u001b[22m\u001b[39mServer on 127.0.0.1:8700 closing\u001b[33m\n",
      "│  \u001b[39m\u001b[36m\u001b[1m[ \u001b[22m\u001b[39m\u001b[36m\u001b[1mInfo: \u001b[22m\u001b[39mMeshCat server closed.\u001b[33m\n",
      "└  \u001b[39m\n"
     ]
    }
   ],
   "source": [
    "import Pkg; Pkg.activate(@__DIR__); Pkg.instantiate()"
   ]
  },
  {
   "cell_type": "code",
   "execution_count": 2,
   "metadata": {},
   "outputs": [
    {
     "name": "stderr",
     "output_type": "stream",
     "text": [
      "\u001b[36m\u001b[1m[ \u001b[22m\u001b[39m\u001b[36m\u001b[1mInfo: \u001b[22m\u001b[39mPrecompiling PyPlot [d330b81b-6aea-500a-939a-2ce795aea3ee]\n",
      "\u001b[36m\u001b[1m[ \u001b[22m\u001b[39m\u001b[36m\u001b[1mInfo: \u001b[22m\u001b[39mPrecompiling ControlSystems [a6e380b2-a6ca-5380-bf3e-84a91bcd477e]\n",
      "\u001b[36m\u001b[1m[ \u001b[22m\u001b[39m\u001b[36m\u001b[1mInfo: \u001b[22m\u001b[39mPrecompiling SparseMatrixColoringsColorsExt [42e6ba4b-6785-530d-add2-80af3b5b757b]\n",
      "\u001b[36m\u001b[1m[ \u001b[22m\u001b[39m\u001b[36m\u001b[1mInfo: \u001b[22m\u001b[39mPrecompiling OSQP [ab2f91bb-94b4-55e3-9ba0-7f65df51de79]\n"
     ]
    }
   ],
   "source": [
    "using LinearAlgebra\n",
    "using PyPlot\n",
    "using SparseArrays\n",
    "using ForwardDiff\n",
    "using ControlSystems\n",
    "using OSQP"
   ]
  },
  {
   "cell_type": "code",
   "execution_count": 3,
   "metadata": {},
   "outputs": [
    {
     "data": {
      "text/plain": [
       "0.05"
      ]
     },
     "execution_count": 3,
     "metadata": {},
     "output_type": "execute_result"
    }
   ],
   "source": [
    "#Model parameters\n",
    "g = 9.81 #m/s^2\n",
    "m = 1.0 #kg \n",
    "ℓ = 0.3 #meters\n",
    "J = 0.2*m*ℓ*ℓ\n",
    "\n",
    "#Thrust limits\n",
    "umin = [0.2*m*g; 0.2*m*g]\n",
    "umax = [0.6*m*g; 0.6*m*g]\n",
    "\n",
    "h = 0.05 #time step (20 Hz)"
   ]
  },
  {
   "cell_type": "code",
   "execution_count": 4,
   "metadata": {},
   "outputs": [
    {
     "data": {
      "text/plain": [
       "quad_dynamics (generic function with 1 method)"
      ]
     },
     "execution_count": 4,
     "metadata": {},
     "output_type": "execute_result"
    }
   ],
   "source": [
    "#Planar Quadrotor Dynamics\n",
    "function quad_dynamics(x,u)\n",
    "    θ = x[3]\n",
    "    \n",
    "    ẍ = (1/m)*(u[1] + u[2])*sin(θ)\n",
    "    ÿ = (1/m)*(u[1] + u[2])*cos(θ) - g\n",
    "    θ̈ = (1/J)*(ℓ/2)*(u[2] - u[1])\n",
    "    \n",
    "    return [x[4:6]; ẍ; ÿ; θ̈]\n",
    "end"
   ]
  },
  {
   "cell_type": "code",
   "execution_count": 5,
   "metadata": {},
   "outputs": [
    {
     "data": {
      "text/plain": [
       "quad_dynamics_rk4 (generic function with 1 method)"
      ]
     },
     "execution_count": 5,
     "metadata": {},
     "output_type": "execute_result"
    }
   ],
   "source": [
    "function quad_dynamics_rk4(x,u)\n",
    "    #RK4 integration with zero-order hold on u\n",
    "    f1 = quad_dynamics(x, u)\n",
    "    f2 = quad_dynamics(x + 0.5*h*f1, u)\n",
    "    f3 = quad_dynamics(x + 0.5*h*f2, u)\n",
    "    f4 = quad_dynamics(x + h*f3, u)\n",
    "    return x + (h/6.0)*(f1 + 2*f2 + 2*f3 + f4)\n",
    "end"
   ]
  },
  {
   "cell_type": "code",
   "execution_count": 6,
   "metadata": {},
   "outputs": [
    {
     "data": {
      "text/plain": [
       "6-element Vector{Float64}:\n",
       " 0.0\n",
       " 0.0\n",
       " 0.0\n",
       " 0.0\n",
       " 0.0\n",
       " 0.0"
      ]
     },
     "execution_count": 6,
     "metadata": {},
     "output_type": "execute_result"
    }
   ],
   "source": [
    "#Linearized dynamics for hovering\n",
    "x_hover = zeros(6)\n",
    "u_hover = [0.5*m*g; 0.5*m*g]\n",
    "A = ForwardDiff.jacobian(x->quad_dynamics_rk4(x,u_hover),x_hover);\n",
    "B = ForwardDiff.jacobian(u->quad_dynamics_rk4(x_hover,u),u_hover);\n",
    "quad_dynamics_rk4(x_hover, u_hover)"
   ]
  },
  {
   "cell_type": "code",
   "execution_count": 7,
   "metadata": {},
   "outputs": [],
   "source": [
    "Nx = 6     # number of state\n",
    "Nu = 2     # number of controls\n",
    "Tfinal = 10.0 # final time\n",
    "Nt = Int(Tfinal/h)+1    # number of time steps\n",
    "thist = Array(range(0,h*(Nt-1), step=h));"
   ]
  },
  {
   "cell_type": "code",
   "execution_count": 8,
   "metadata": {},
   "outputs": [],
   "source": [
    "# Cost weights\n",
    "Q = Array(1.0*I(Nx));\n",
    "R = Array(.01*I(Nu));\n",
    "Qn = Array(1.0*I(Nx));"
   ]
  },
  {
   "cell_type": "code",
   "execution_count": 9,
   "metadata": {},
   "outputs": [
    {
     "data": {
      "text/plain": [
       "cost (generic function with 1 method)"
      ]
     },
     "execution_count": 9,
     "metadata": {},
     "output_type": "execute_result"
    }
   ],
   "source": [
    "#Cost function\n",
    "function cost(xhist,uhist)\n",
    "    cost = 0.5*xhist[:,end]'*Qn*xhist[:,end]\n",
    "    for k = 1:(size(xhist,2)-1)\n",
    "        cost = cost + 0.5*xhist[:,k]'*Q*xhist[:,k] + 0.5*(uhist[k]'*R*uhist[k])[1]\n",
    "    end\n",
    "    return cost\n",
    "end"
   ]
  },
  {
   "cell_type": "code",
   "execution_count": 10,
   "metadata": {},
   "outputs": [
    {
     "data": {
      "text/plain": [
       "lqr_controller (generic function with 1 method)"
      ]
     },
     "execution_count": 10,
     "metadata": {},
     "output_type": "execute_result"
    }
   ],
   "source": [
    "#LQR Hover Controller\n",
    "P = dare(A,B,Q,R)\n",
    "K = dlqr(A,B,Q,R)\n",
    "\n",
    "function lqr_controller(t,x,K,xref)\n",
    "    \n",
    "    return u_hover - K*(x-xref)\n",
    "end"
   ]
  },
  {
   "cell_type": "code",
   "execution_count": 11,
   "metadata": {},
   "outputs": [],
   "source": [
    "#Build QP matrices for OSQP\n",
    "Nh = 20 #one second horizon at 20Hz\n",
    "Nx = 6\n",
    "Nu = 2\n",
    "U = kron(Diagonal(I,Nh), [I zeros(Nu,Nx)]) #Matrix that picks out all u\n",
    "Θ = kron(Diagonal(I,Nh), [0 0 0 0 1 0 0 0]) #Matrix that picks out all x3 (θ)\n",
    "H = sparse([kron(Diagonal(I,Nh-1),[R zeros(Nu,Nx); zeros(Nx,Nu) Q]) zeros((Nx+Nu)*(Nh-1), Nx+Nu); zeros(Nx+Nu,(Nx+Nu)*(Nh-1)) [R zeros(Nu,Nx); zeros(Nx,Nu) P]])\n",
    "b = zeros(Nh*(Nx+Nu))\n",
    "C = sparse([[B -I zeros(Nx,(Nh-1)*(Nu+Nx))]; zeros(Nx*(Nh-1),Nu) [kron(Diagonal(I,Nh-1), [A B]) zeros((Nh-1)*Nx,Nx)] + [zeros((Nh-1)*Nx,Nx) kron(Diagonal(I,Nh-1),[zeros(Nx,Nu) Diagonal(-I,Nx)])]])\n",
    "\n",
    "#Dynamics + Thrust limit constraints\n",
    "D = [C; U]\n",
    "lb = [zeros(Nx*Nh); kron(ones(Nh),umin-u_hover)]\n",
    "ub = [zeros(Nx*Nh); kron(ones(Nh),umax-u_hover)]\n",
    "\n",
    "#Dynamics + thrust limit + bound constraint on θ to keep the system within small-angle approximation\n",
    "#D = [C; U; Θ]\n",
    "#lb = [zeros(Nx*Nh); kron(ones(Nh),umin-u_hover); -0.2*ones(Nh)]\n",
    "#ub = [zeros(Nx*Nh); kron(ones(Nh),umax-u_hover); 0.2*ones(Nh)]\n",
    "\n",
    "prob = OSQP.Model()\n",
    "OSQP.setup!(prob; P=H, q=b, A=D, l=lb, u=ub, verbose=false, eps_abs=1e-8, eps_rel=1e-8, polish=1);"
   ]
  },
  {
   "cell_type": "code",
   "execution_count": 12,
   "metadata": {},
   "outputs": [
    {
     "data": {
      "text/plain": [
       "mpc_controller (generic function with 1 method)"
      ]
     },
     "execution_count": 12,
     "metadata": {},
     "output_type": "execute_result"
    }
   ],
   "source": [
    "#MPC Controller\n",
    "function mpc_controller(t,x,xref)\n",
    "    \n",
    "    #Update QP problem\n",
    "    lb[1:6] .= -A*x\n",
    "    ub[1:6] .= -A*x\n",
    "    \n",
    "    for j = 1:(Nh-1)\n",
    "        b[(Nu+(j-1)*(Nx+Nu)).+(1:Nx)] .= -Q*xref\n",
    "    end\n",
    "    b[(Nu+(Nh-1)*(Nx+Nu)).+(1:Nx)] .= -P*xref\n",
    "    \n",
    "    OSQP.update!(prob, q=b, l=lb, u=ub)\n",
    "\n",
    "    #Solve QP\n",
    "    results = OSQP.solve!(prob)\n",
    "    Δu = results.x[1:Nu]\n",
    "\n",
    "    return u_hover + Δu\n",
    "end"
   ]
  },
  {
   "cell_type": "code",
   "execution_count": 13,
   "metadata": {},
   "outputs": [
    {
     "data": {
      "text/plain": [
       "closed_loop (generic function with 1 method)"
      ]
     },
     "execution_count": 13,
     "metadata": {},
     "output_type": "execute_result"
    }
   ],
   "source": [
    "function closed_loop(x0,controller,N)\n",
    "    xhist = zeros(length(x0),N)\n",
    "    u0 = controller(1,x0)\n",
    "    uhist = zeros(length(u0),N-1)\n",
    "    uhist[:,1] .= u0\n",
    "    xhist[:,1] .= x0\n",
    "    for k = 1:(N-1)\n",
    "        uk = controller(k,xhist[:,k])\n",
    "        uhist[:,k] = max.(min.(umax, uk), umin) #enforce control limits\n",
    "        xhist[:,k+1] .= quad_dynamics_rk4(xhist[:,k],uhist[:,k])\n",
    "    end\n",
    "    return xhist, uhist\n",
    "end"
   ]
  },
  {
   "cell_type": "code",
   "execution_count": 14,
   "metadata": {},
   "outputs": [],
   "source": [
    "x_ref = [0.0; 1.0; 0; 0; 0; 0]\n",
    "x0 = [1.0; 2.0; 0.0; 0; 0; 0]\n",
    "xhist1, uhist1 = closed_loop(x0, (t,x)->lqr_controller(t,x,K,x_ref), Nt);\n",
    "xhist2, uhist2 = closed_loop(x0, (t,x)->mpc_controller(t,x,x_ref), Nt);"
   ]
  },
  {
   "cell_type": "code",
   "execution_count": null,
   "metadata": {},
   "outputs": [],
   "source": [
    "plot(thist,xhist1[1,:], label=\"x LQR\")\n",
    "plot(thist,xhist2[1,:], label=\"x MPC\")\n",
    "xlabel(\"time\")\n",
    "legend()"
   ]
  },
  {
   "cell_type": "code",
   "execution_count": null,
   "metadata": {},
   "outputs": [],
   "source": [
    "plot(thist,xhist1[2,:], label=\"y LQR\")\n",
    "plot(thist,xhist2[2,:], label=\"y MPC\")\n",
    "xlabel(\"time\")\n",
    "legend()"
   ]
  },
  {
   "cell_type": "code",
   "execution_count": null,
   "metadata": {},
   "outputs": [],
   "source": [
    "#plot(thist,xhist1[3,:], label=\"θ LQR\")\n",
    "plot(thist,xhist2[3,:], label=\"θ MPC\")\n",
    "xlabel(\"time\")\n",
    "legend()"
   ]
  },
  {
   "cell_type": "code",
   "execution_count": null,
   "metadata": {},
   "outputs": [],
   "source": [
    "plot(thist[1:end-1], uhist1[1,:], label=\"u1 LQR\")\n",
    "plot(thist[1:end-1], uhist2[1,:], label=\"u1 MPC\")\n",
    "xlabel(\"Time\")\n",
    "legend()"
   ]
  },
  {
   "cell_type": "code",
   "execution_count": null,
   "metadata": {},
   "outputs": [],
   "source": [
    "plot(thist[1:end-1], uhist1[2,:], label=\"u2 LQR\")\n",
    "plot(thist[1:end-1], uhist2[2,:], label=\"u2 MPC\")\n",
    "xlabel(\"Time\")\n",
    "legend()"
   ]
  },
  {
   "cell_type": "code",
   "execution_count": null,
   "metadata": {},
   "outputs": [],
   "source": [
    "#Set up visualization\n",
    "using MeshCat\n",
    "using RobotZoo: Quadrotor, PlanarQuadrotor\n",
    "using CoordinateTransformations, Rotations, Colors, StaticArrays, RobotDynamics\n",
    "\n",
    "function set_mesh!(vis, model::L;\n",
    "        scaling=1.0, color=colorant\"black\"\n",
    "    ) where {L <: Union{Quadrotor, PlanarQuadrotor}} \n",
    "    # urdf_folder = joinpath(@__DIR__, \"..\", \"data\", \"meshes\")\n",
    "    urdf_folder = @__DIR__\n",
    "    # if scaling != 1.0\n",
    "    #     quad_scaling = 0.085 * scaling\n",
    "    obj = joinpath(urdf_folder, \"quadrotor_scaled.obj\")\n",
    "    if scaling != 1.0\n",
    "        error(\"Scaling not implemented after switching to MeshCat 0.12\")\n",
    "    end\n",
    "    robot_obj = MeshFileGeometry(obj)\n",
    "    mat = MeshPhongMaterial(color=color)\n",
    "    setobject!(vis[\"robot\"][\"geom\"], robot_obj, mat)\n",
    "    if hasfield(L, :ned)\n",
    "        model.ned && settransform!(vis[\"robot\"][\"geom\"], LinearMap(RotX(pi)))\n",
    "    end\n",
    "end\n",
    "\n",
    "function visualize!(vis, model::PlanarQuadrotor, x::StaticVector)\n",
    "    py,pz = x[1], x[2]\n",
    "    θ = x[3]\n",
    "    settransform!(vis[\"robot\"], compose(Translation(0,py,pz), LinearMap(RotX(-θ))))\n",
    "end\n",
    "\n",
    "function visualize!(vis, model, tf::Real, X)\n",
    "    fps = Int(round((length(X)-1)/tf))\n",
    "    anim = MeshCat.Animation(vis; fps)\n",
    "    for (k,x) in enumerate(X)\n",
    "        atframe(anim, k) do\n",
    "            x = X[k]\n",
    "            visualize!(vis, model, SVector{6}(x)) \n",
    "        end\n",
    "    end\n",
    "    setanimation!(vis, anim)\n",
    "end"
   ]
  },
  {
   "cell_type": "code",
   "execution_count": null,
   "metadata": {
    "scrolled": true
   },
   "outputs": [],
   "source": [
    "vis = Visualizer()\n",
    "model = PlanarQuadrotor()\n",
    "set_mesh!(vis, model)\n",
    "render(vis)"
   ]
  },
  {
   "cell_type": "code",
   "execution_count": null,
   "metadata": {},
   "outputs": [],
   "source": [
    "X1 = [SVector{6}(x) for x in eachcol(xhist1)];\n",
    "X2 = [SVector{6}(x) for x in eachcol(xhist2)];"
   ]
  },
  {
   "cell_type": "code",
   "execution_count": null,
   "metadata": {},
   "outputs": [],
   "source": [
    "visualize!(vis, model, thist[end], X1)"
   ]
  },
  {
   "cell_type": "code",
   "execution_count": null,
   "metadata": {},
   "outputs": [],
   "source": [
    "visualize!(vis, model, thist[end], X2)"
   ]
  },
  {
   "cell_type": "code",
   "execution_count": null,
   "metadata": {},
   "outputs": [],
   "source": []
  }
 ],
 "metadata": {
  "kernelspec": {
   "display_name": "Julia 1.10.8",
   "language": "julia",
   "name": "julia-1.10"
  },
  "language_info": {
   "file_extension": ".jl",
   "mimetype": "application/julia",
   "name": "julia",
   "version": "1.10.8"
  }
 },
 "nbformat": 4,
 "nbformat_minor": 4
}
