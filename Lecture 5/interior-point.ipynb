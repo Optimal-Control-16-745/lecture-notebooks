{
 "cells": [
  {
   "cell_type": "code",
   "execution_count": null,
   "id": "012f9b4d-9754-467b-9b9c-7367f77ba292",
   "metadata": {},
   "outputs": [],
   "source": [
    "import Pkg; Pkg.activate(@__DIR__); Pkg.instantiate()"
   ]
  },
  {
   "cell_type": "code",
   "execution_count": null,
   "id": "d129e500-1db0-4f09-ba14-1c60d953792a",
   "metadata": {},
   "outputs": [],
   "source": [
    "using LinearAlgebra\n",
    "using ForwardDiff\n",
    "using PyPlot"
   ]
  },
  {
   "cell_type": "code",
   "execution_count": null,
   "id": "65202fb8-a805-4033-93c0-6a4cdf7810c9",
   "metadata": {},
   "outputs": [],
   "source": [
    "Q = Diagonal([0.5; 1])\n",
    "function f(x)\n",
    "    return 0.5*(x-[1; 0])'*Q*(x-[1; 0])\n",
    "end\n",
    "function ∇f(x)\n",
    "    return Q*(x-[1; 0])\n",
    "end\n",
    "function ∇2f(x)\n",
    "    return Q\n",
    "end"
   ]
  },
  {
   "cell_type": "code",
   "execution_count": null,
   "id": "583fbdc4-375b-4013-8064-f00842c19240",
   "metadata": {},
   "outputs": [],
   "source": [
    "A = [-1.0 1.0]\n",
    "b = 1.0\n",
    "function c(x)\n",
    "    return dot(A,x) - b\n",
    "end\n",
    "function ∂c(x)\n",
    "    return A\n",
    "end"
   ]
  },
  {
   "cell_type": "code",
   "execution_count": null,
   "id": "732a988e-de84-47c6-a24e-c262f45f2896",
   "metadata": {},
   "outputs": [],
   "source": [
    "function plot_landscape()\n",
    "    Nsamp = 20\n",
    "    Xsamp = kron(ones(Nsamp),LinRange(-4,4,Nsamp)')\n",
    "    Ysamp = kron(ones(Nsamp)',LinRange(-4,4,Nsamp))\n",
    "    Zsamp = zeros(Nsamp,Nsamp)\n",
    "    for j = 1:Nsamp\n",
    "        for k = 1:Nsamp\n",
    "            Zsamp[j,k] = f([Xsamp[j,k]; Ysamp[j,k]])\n",
    "        end\n",
    "    end\n",
    "    contour(Xsamp,Ysamp,Zsamp)\n",
    "\n",
    "    xc = LinRange(-4,3,Nsamp)\n",
    "    plot(xc,xc.+1,\"y\")\n",
    "end\n",
    "\n",
    "plot_landscape()"
   ]
  },
  {
   "cell_type": "code",
   "execution_count": null,
   "id": "ef406b43-4ba2-4993-9761-b8aa631cc7d9",
   "metadata": {},
   "outputs": [],
   "source": [
    "function ip_residual(z, ρ)\n",
    "    x = z[1:2]\n",
    "    σ = z[3]\n",
    "    r = [∇f(x) - ∂c(x)'*sqrt(ρ)*exp(-σ);\n",
    "         c(x) - sqrt(ρ)exp(σ)]\n",
    "end"
   ]
  },
  {
   "cell_type": "code",
   "execution_count": null,
   "id": "309697fc-2a04-47fb-b590-3062a538fd4a",
   "metadata": {},
   "outputs": [],
   "source": [
    "function kkt_residual(z)\n",
    "    x = z[1:2]\n",
    "    σ = z[3]\n",
    "    λ = sqrt(ρ)*exp(-σ)\n",
    "\n",
    "    r = [∇f(x) - ∂c(x)'*λ;\n",
    "         min(λ, 0)\n",
    "         min(c(x),0)\n",
    "         λ*c(x)]\n",
    "end"
   ]
  },
  {
   "cell_type": "code",
   "execution_count": null,
   "id": "9435f612-6482-4015-9d48-c2e68217a2ef",
   "metadata": {},
   "outputs": [],
   "source": [
    "xguess = [-2; 2]\n",
    "σguess = 0.0\n",
    "z = [xguess; σguess]\n",
    "plot_landscape()\n",
    "plot(z[1], z[2], \"rx\")"
   ]
  },
  {
   "cell_type": "code",
   "execution_count": null,
   "id": "16393539-1f14-4703-b938-1423bd5d9de1",
   "metadata": {},
   "outputs": [],
   "source": [
    "ρ = 1.0\n",
    "ip_residual(z,ρ)"
   ]
  },
  {
   "cell_type": "code",
   "execution_count": null,
   "id": "0dd9b9d0-5615-4459-b420-7dba9e9a83ca",
   "metadata": {},
   "outputs": [],
   "source": [
    "kkt_residual(z)"
   ]
  },
  {
   "cell_type": "code",
   "execution_count": null,
   "id": "49c45196-d8ce-4ac5-86d3-192e33ec655a",
   "metadata": {},
   "outputs": [],
   "source": [
    "function newton_solve(z0,ρ,tol)\n",
    "\n",
    "    #initial guess\n",
    "    z = z0\n",
    "    \n",
    "    #KKT residual\n",
    "    r = ip_residual(z,ρ)\n",
    "\n",
    "    while norm(r) > tol       \n",
    "        #H = ∇2f(x)\n",
    "        #C = ∂c(x)\n",
    "\n",
    "        #M = [H sqrt(ρ)*C'*exp(-σ);\n",
    "        #    C -sqrt(ρ)*exp(σ)]\n",
    "\n",
    "        #Newton step\n",
    "        M = ForwardDiff.jacobian(dz->ip_residual(dz,ρ), z)\n",
    "        Δz = -M\\r\n",
    "\n",
    "        znew = z + Δz\n",
    "        rnew = ip_residual(znew,ρ)\n",
    "\n",
    "        #Line search\n",
    "        b = 0.1\n",
    "        c = 0.5\n",
    "        α = 1.0\n",
    "        while norm(rnew) > (norm(r) + b*α*dot(r,M*Δz)/norm(r))\n",
    "            α = c*α\n",
    "            znew = z + α*Δz\n",
    "            rnew = ip_residual(znew,ρ)\n",
    "        end\n",
    "\n",
    "        z = znew\n",
    "        r = rnew\n",
    "    end\n",
    "\n",
    "    return z\n",
    "end"
   ]
  },
  {
   "cell_type": "code",
   "execution_count": null,
   "id": "2effd81a-aee6-48bc-b692-8c1ebb992195",
   "metadata": {},
   "outputs": [],
   "source": [
    "z_iter = z"
   ]
  },
  {
   "cell_type": "code",
   "execution_count": null,
   "id": "b51486c0-a9cd-4a12-a846-32f57fd32c41",
   "metadata": {},
   "outputs": [],
   "source": [
    "ρ = 1.0e-8 #adjust from ρ=1 to ρ=1e-8 to observe convergence along central path\n",
    "z = newton_solve(z_iter[:,end],ρ,1e-10)\n",
    "z_iter = [z_iter z]"
   ]
  },
  {
   "cell_type": "code",
   "execution_count": null,
   "id": "b3ae1497-dd3f-41e2-bfa6-613e38f08ebc",
   "metadata": {},
   "outputs": [],
   "source": [
    "kkt_residual(z)"
   ]
  },
  {
   "cell_type": "code",
   "execution_count": null,
   "id": "52d70903-e6dd-47ad-9d46-d88e4f5dc39c",
   "metadata": {},
   "outputs": [],
   "source": [
    "plot_landscape()\n",
    "plot(z_iter[1,:], z_iter[2,:], \"rx\")"
   ]
  },
  {
   "cell_type": "code",
   "execution_count": null,
   "id": "f1a996bb-9fb5-4419-bfe3-026fafc767b8",
   "metadata": {
    "scrolled": true
   },
   "outputs": [],
   "source": [
    "M = ForwardDiff.jacobian(dz->ip_residual(dz,ρ), z)"
   ]
  },
  {
   "cell_type": "code",
   "execution_count": null,
   "id": "12bb1ec7-945d-4ae7-a37a-dc30db289636",
   "metadata": {},
   "outputs": [],
   "source": [
    "eigvals(M)"
   ]
  },
  {
   "cell_type": "code",
   "execution_count": null,
   "id": "774f83a1-6eb2-4e04-8047-8021b158a9e9",
   "metadata": {},
   "outputs": [],
   "source": []
  }
 ],
 "metadata": {
  "kernelspec": {
   "display_name": "Julia 1.10.8",
   "language": "julia",
   "name": "julia-1.10"
  },
  "language_info": {
   "file_extension": ".jl",
   "mimetype": "application/julia",
   "name": "julia",
   "version": "1.10.8"
  }
 },
 "nbformat": 4,
 "nbformat_minor": 5
}
