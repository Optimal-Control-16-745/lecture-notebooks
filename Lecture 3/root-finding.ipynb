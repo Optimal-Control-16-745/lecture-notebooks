{
 "cells": [
  {
   "cell_type": "code",
   "execution_count": null,
   "metadata": {},
   "outputs": [],
   "source": [
    "import Pkg; Pkg.activate(@__DIR__); Pkg.instantiate()"
   ]
  },
  {
   "cell_type": "code",
   "execution_count": null,
   "metadata": {},
   "outputs": [],
   "source": [
    "using LinearAlgebra\n",
    "using ForwardDiff\n",
    "using PyPlot"
   ]
  },
  {
   "cell_type": "code",
   "execution_count": null,
   "metadata": {},
   "outputs": [],
   "source": [
    "function pendulum_dynamics(x)\n",
    "    l = 1.0\n",
    "    g = 9.81\n",
    "    \n",
    "    θ = x[1]\n",
    "    θ̇ = x[2]\n",
    "    \n",
    "    θ̈ = -(g/l)*sin(θ)\n",
    "    \n",
    "    return [θ̇; θ̈]\n",
    "end"
   ]
  },
  {
   "cell_type": "code",
   "execution_count": null,
   "metadata": {},
   "outputs": [],
   "source": [
    "function backward_euler_step_fixed_point(fun, x0, h)\n",
    "    xn = x0\n",
    "    e = [norm(x0 + h.*fun(xn) - xn)]\n",
    "    while e[end] > 1e-8\n",
    "        xn = x0 + h.*fun(xn)\n",
    "        e = [e; norm(x0 + h.*fun(xn) - xn)]\n",
    "    end\n",
    "    \n",
    "    return xn, e\n",
    "end"
   ]
  },
  {
   "cell_type": "code",
   "execution_count": null,
   "metadata": {},
   "outputs": [],
   "source": [
    "function backward_euler_step_newton(fun, x0, h)\n",
    "    xn = x0\n",
    "    r = x0 + h.*fun(xn) - xn\n",
    "    e = [norm(r)]\n",
    "    while e[end] > 1e-8\n",
    "        ∂r = ForwardDiff.jacobian(x -> x0 + h.*fun(x) - x, xn)\n",
    "        xn = xn - ∂r\\r\n",
    "        r = x0 + h.*fun(xn) - xn\n",
    "        e = [e; norm(r)]\n",
    "    end\n",
    "    \n",
    "    return xn, e\n",
    "end"
   ]
  },
  {
   "cell_type": "code",
   "execution_count": null,
   "metadata": {},
   "outputs": [],
   "source": [
    "function backward_euler_fixed_point(fun, x0, Tf, h)\n",
    "    t = Array(range(0,Tf,step=h))\n",
    "    \n",
    "    x_hist = zeros(length(x0),length(t))\n",
    "    x_hist[:,1] .= x0\n",
    "    \n",
    "    for k = 1:(length(t)-1)\n",
    "        x_hist[:,k+1], e = backward_euler_step_fixed_point(fun, x_hist[:,k], h)\n",
    "    end\n",
    "    \n",
    "    return x_hist, t\n",
    "end"
   ]
  },
  {
   "cell_type": "code",
   "execution_count": null,
   "metadata": {},
   "outputs": [],
   "source": [
    "function backward_euler_newton(fun, x0, Tf, h)\n",
    "    t = Array(range(0,Tf,step=h))\n",
    "    \n",
    "    x_hist = zeros(length(x0),length(t))\n",
    "    x_hist[:,1] .= x0\n",
    "    \n",
    "    for k = 1:(length(t)-1)\n",
    "        x_hist[:,k+1], e = backward_euler_step_newton(fun, x_hist[:,k], h)\n",
    "    end\n",
    "    \n",
    "    return x_hist, t\n",
    "end"
   ]
  },
  {
   "cell_type": "code",
   "execution_count": null,
   "metadata": {},
   "outputs": [],
   "source": [
    "x0 = [.1; 0]\n",
    "x_hist1, t_hist1 = backward_euler_fixed_point(pendulum_dynamics, x0, 10, 0.01)\n",
    "x_hist2, t_hist2 = backward_euler_newton(pendulum_dynamics, x0, 10, 0.01)\n",
    "plot(t_hist1, x_hist1[1,:])\n",
    "plot(t_hist2, x_hist2[1,:])"
   ]
  },
  {
   "cell_type": "code",
   "execution_count": null,
   "metadata": {},
   "outputs": [],
   "source": [
    "max(abs.(x_hist1-x_hist2)...)"
   ]
  },
  {
   "cell_type": "code",
   "execution_count": null,
   "metadata": {},
   "outputs": [],
   "source": [
    "xn, e1 = backward_euler_step_fixed_point(pendulum_dynamics, x0, 0.1)\n",
    "e1"
   ]
  },
  {
   "cell_type": "code",
   "execution_count": null,
   "metadata": {},
   "outputs": [],
   "source": [
    "xn, e2 = backward_euler_step_newton(pendulum_dynamics, x0, 0.1)\n",
    "e2"
   ]
  },
  {
   "cell_type": "code",
   "execution_count": null,
   "metadata": {},
   "outputs": [],
   "source": [
    "semilogy(e1)\n",
    "semilogy(e2)"
   ]
  },
  {
   "cell_type": "code",
   "execution_count": null,
   "metadata": {},
   "outputs": [],
   "source": []
  },
  {
   "cell_type": "code",
   "execution_count": null,
   "metadata": {},
   "outputs": [],
   "source": []
  }
 ],
 "metadata": {
  "kernelspec": {
   "display_name": "Julia 1.10.7",
   "language": "julia",
   "name": "julia-1.10"
  },
  "language_info": {
   "file_extension": ".jl",
   "mimetype": "application/julia",
   "name": "julia",
   "version": "1.10.7"
  }
 },
 "nbformat": 4,
 "nbformat_minor": 4
}
