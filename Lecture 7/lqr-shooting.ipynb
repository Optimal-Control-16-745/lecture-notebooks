{
 "cells": [
  {
   "cell_type": "code",
   "execution_count": null,
   "metadata": {},
   "outputs": [],
   "source": [
    "import Pkg; Pkg.activate(@__DIR__); Pkg.instantiate()"
   ]
  },
  {
   "cell_type": "code",
   "execution_count": null,
   "metadata": {},
   "outputs": [],
   "source": [
    "using LinearAlgebra\n",
    "using PyPlot"
   ]
  },
  {
   "cell_type": "code",
   "execution_count": null,
   "metadata": {},
   "outputs": [],
   "source": [
    "# Discrete dynamics\n",
    "h = 0.1   # time step\n",
    "A = [1 h; 0 1]\n",
    "B = [0.5*h*h; h]"
   ]
  },
  {
   "cell_type": "code",
   "execution_count": null,
   "metadata": {},
   "outputs": [],
   "source": [
    "n = 2     # number of state\n",
    "m = 1     # number of controls\n",
    "Tfinal = 10.0 # final time #try larger values\n",
    "N = Int(Tfinal/h)+1    # number of time steps\n",
    "thist = Array(range(0,h*(N-1), step=h));"
   ]
  },
  {
   "cell_type": "code",
   "execution_count": null,
   "metadata": {},
   "outputs": [],
   "source": [
    "# Initial conditions\n",
    "x0 = [1.0; 0]"
   ]
  },
  {
   "cell_type": "code",
   "execution_count": null,
   "metadata": {},
   "outputs": [],
   "source": [
    "# Cost weights\n",
    "Q = 1.0*I(2)\n",
    "R = 0.1\n",
    "Qn = 1.0*I(2)"
   ]
  },
  {
   "cell_type": "code",
   "execution_count": null,
   "metadata": {},
   "outputs": [],
   "source": [
    "function J(xhist,uhist)\n",
    "    cost = 0.5*xhist[:,end]'*Qn*xhist[:,end]\n",
    "    for k = 1:(N-1)\n",
    "        cost = cost + 0.5*xhist[:,k]'*Q*xhist[:,k] + 0.5*uhist[k]'*R*uhist[k]\n",
    "    end\n",
    "    return cost\n",
    "end"
   ]
  },
  {
   "cell_type": "code",
   "execution_count": null,
   "metadata": {},
   "outputs": [],
   "source": [
    "function rollout(xhist, uhist)\n",
    "    xnew = zeros(size(xhist))\n",
    "    xnew[:,1] = xhist[:,1]\n",
    "    for k = 1:(N-1)\n",
    "        xnew[:,k+1] .= A*xnew[:,k] + B*uhist[k]\n",
    "    end\n",
    "    return xnew\n",
    "end"
   ]
  },
  {
   "cell_type": "code",
   "execution_count": null,
   "metadata": {},
   "outputs": [],
   "source": [
    "# Initial guess\n",
    "xhist = repeat(x0, 1, N)\n",
    "uhist = zeros(N-1)\n",
    "Δu = ones(N-1)\n",
    "λhist = zeros(n,N)\n",
    "\n",
    "xhist = rollout(xhist, uhist) #initial rollout to get state trajectory\n",
    "\n",
    "J(xhist,uhist) #Initial cost"
   ]
  },
  {
   "cell_type": "code",
   "execution_count": null,
   "metadata": {},
   "outputs": [],
   "source": [
    "b = 1e-2 #line search tolerance\n",
    "α = 1.0\n",
    "iter = 0\n",
    "while maximum(abs.(Δu[:])) > 1e-2 #terminate when the gradient is small\n",
    "    \n",
    "    #Backward pass to compute λ and Δu\n",
    "    λhist[:,N] .= Qn*xhist[:,N]\n",
    "    for k = N-1:-1:1\n",
    "        Δu[k] = -(uhist[k]+R\\B'*λhist[:,k+1])\n",
    "        λhist[:,k] .= Q*xhist[:,k] + A'*λhist[:,k+1]\n",
    "    end\n",
    "    \n",
    "    #Forward pass with line search to compute x\n",
    "    α = 1.0\n",
    "    unew = uhist + α.*Δu\n",
    "    xnew = rollout(xhist, unew)\n",
    "    while J(xnew, unew) > J(xhist, uhist) - b*α*Δu[:]'*Δu[:]\n",
    "        α = 0.5*α\n",
    "        unew = uhist + α.*Δu\n",
    "        xnew = rollout(xhist, unew)\n",
    "    end\n",
    "    uhist .= unew;\n",
    "    xhist .= xnew;\n",
    "    iter += 1\n",
    "end"
   ]
  },
  {
   "cell_type": "code",
   "execution_count": null,
   "metadata": {},
   "outputs": [],
   "source": [
    "iter"
   ]
  },
  {
   "cell_type": "code",
   "execution_count": null,
   "metadata": {},
   "outputs": [],
   "source": [
    "J(xhist,uhist) #cost of solution"
   ]
  },
  {
   "cell_type": "code",
   "execution_count": null,
   "metadata": {},
   "outputs": [],
   "source": [
    "# Plot x1 vs. x2, u vs. t, x vs. t, etc.\n",
    "plot(thist,xhist[1,:], label=\"Position\")\n",
    "plot(thist,xhist[2,:], label=\"Velocity\")\n",
    "xlabel(\"Time\")\n",
    "legend()"
   ]
  },
  {
   "cell_type": "code",
   "execution_count": null,
   "metadata": {},
   "outputs": [],
   "source": [
    "plot(thist[1:end-1], uhist, label=\"control\")\n",
    "xlabel(\"Time\")\n",
    "legend()"
   ]
  },
  {
   "cell_type": "code",
   "execution_count": null,
   "metadata": {},
   "outputs": [],
   "source": []
  }
 ],
 "metadata": {
  "kernelspec": {
   "display_name": "Julia 1.10.8",
   "language": "julia",
   "name": "julia-1.10"
  },
  "language_info": {
   "file_extension": ".jl",
   "mimetype": "application/julia",
   "name": "julia",
   "version": "1.10.8"
  }
 },
 "nbformat": 4,
 "nbformat_minor": 4
}
