{
 "cells": [
  {
   "cell_type": "code",
   "execution_count": null,
   "id": "2bd9fa1f-7d12-40eb-88c6-593fe4548e0a",
   "metadata": {},
   "outputs": [],
   "source": [
    "using LinearAlgebra\n",
    "using PyPlot"
   ]
  },
  {
   "cell_type": "code",
   "execution_count": null,
   "id": "082cf5ec-e3ee-4c06-ba76-34bbd90c452b",
   "metadata": {},
   "outputs": [],
   "source": [
    "#Damped simple harmonic oscillator\n",
    "k = 10.0; #spring constant\n",
    "c = 0.2; #damping constant\n",
    "h = 0.1; #10 Hz\n",
    "A = exp(h*[0 1; -k -c])"
   ]
  },
  {
   "cell_type": "code",
   "execution_count": null,
   "id": "2624aae4-ef73-42c4-9fa5-67d2d06b5fd8",
   "metadata": {},
   "outputs": [],
   "source": [
    "T = 50 #5 seconds\n",
    "\n",
    "x0 = [1.0; 0]\n",
    "xtraj = zeros(2,T);\n",
    "xtraj[:,1] .= x0\n",
    "\n",
    "for k = 1:(T-1)\n",
    "    xtraj[:,k+1] .= A*xtraj[:,k];\n",
    "end"
   ]
  },
  {
   "cell_type": "code",
   "execution_count": null,
   "id": "087159c0-2dbe-4115-82ee-d877ab8537cb",
   "metadata": {},
   "outputs": [],
   "source": [
    "plot(xtraj[1,:])\n",
    "plot(xtraj[2,:])"
   ]
  },
  {
   "cell_type": "code",
   "execution_count": null,
   "id": "df98dc10-b531-4276-83e2-1e9cee51eed0",
   "metadata": {},
   "outputs": [],
   "source": [
    "#Generate a bunch of trajectories from random initial conditions\n",
    "N = 10\n",
    "H = zeros(2*T,N)\n",
    "for ℓ = 1:N\n",
    "    xtraj = zeros(2,T)\n",
    "    xtraj[:,1] .= randn(2)\n",
    "    for k = 1:(T-1)\n",
    "        xtraj[:,k+1] .= A*xtraj[:,k]\n",
    "    end\n",
    "    H[:,ℓ] .= xtraj[:]\n",
    "end"
   ]
  },
  {
   "cell_type": "code",
   "execution_count": null,
   "id": "d5a67584-77a3-4eea-90a5-cc527e892c02",
   "metadata": {},
   "outputs": [],
   "source": [
    "#Pick some new initial condition\n",
    "x0 = [-1; 1]\n",
    "\n",
    "#Simulate with rollout\n",
    "xtraj1 = zeros(2,T);\n",
    "xtraj1[:,1] .= x0\n",
    "\n",
    "for k = 1:(T-1)\n",
    "    xtraj1[:,k+1] .= A*xtraj1[:,k];\n",
    "end\n",
    "xtraj1"
   ]
  },
  {
   "cell_type": "code",
   "execution_count": null,
   "id": "57f9935f-b8ca-4194-9c32-d4f59adabdce",
   "metadata": {},
   "outputs": [],
   "source": [
    "#Generate the same trajectory using the data matrix\n",
    "E = [I zeros(2,2*(T-1))]\n",
    "w = (H'*E'*E*H)\\(H'*E'*x0)\n",
    "z = H*w\n",
    "xtraj2 = reshape(z,2,T)"
   ]
  },
  {
   "cell_type": "code",
   "execution_count": null,
   "id": "1aea7d84-7b8d-4e60-802a-640007c481a7",
   "metadata": {},
   "outputs": [],
   "source": [
    "#The rollout matches the projection\n",
    "plot(xtraj1[1,:])\n",
    "plot(xtraj2[1,:])\n",
    "xtraj1-xtraj2"
   ]
  },
  {
   "cell_type": "code",
   "execution_count": null,
   "id": "f2ce4092-a3be-4f8b-85d2-abc82fd3c200",
   "metadata": {},
   "outputs": [],
   "source": [
    "#Rank of the data matrix = dimension of the data manifold\n",
    "rank(H)"
   ]
  },
  {
   "cell_type": "code",
   "execution_count": null,
   "id": "7f8c0af6-ca83-4adf-b738-ed08d17b948a",
   "metadata": {},
   "outputs": [],
   "source": [
    "#Do the same thing with only positions y = [1 0]*x\n",
    "C = [1.0 0]\n",
    "N = 10\n",
    "H = zeros(T,N)\n",
    "for ℓ = 1:N\n",
    "    xtraj = zeros(2,T)\n",
    "    xtraj[:,1] .= randn(2)\n",
    "    for k = 1:(T-1)\n",
    "        xtraj[:,k+1] .= A*xtraj[:,k]\n",
    "    end\n",
    "    ytraj = C*xtraj;\n",
    "    H[:,ℓ] .= ytraj[:];\n",
    "end"
   ]
  },
  {
   "cell_type": "code",
   "execution_count": null,
   "id": "9bac02bd-24b6-4efa-8061-fcc2ca64e09d",
   "metadata": {},
   "outputs": [],
   "source": [
    "rank(H) #rank of data matrix is still the same"
   ]
  },
  {
   "cell_type": "code",
   "execution_count": null,
   "id": "c8fc973c-973d-4271-bacd-a417853d6cba",
   "metadata": {},
   "outputs": [],
   "source": [
    "#Pick some new initial condition\n",
    "x0 = [1; -1]\n",
    "\n",
    "#Simulate with rollout\n",
    "xtraj1 = zeros(2,T);\n",
    "xtraj1[:,1] .= x0\n",
    "\n",
    "for k = 1:(T-1)\n",
    "    xtraj1[:,k+1] .= A*xtraj1[:,k];\n",
    "end\n",
    "ytraj1 = (C*xtraj1)[:]"
   ]
  },
  {
   "cell_type": "code",
   "execution_count": null,
   "id": "0a04f50e-229c-4f0c-adc2-f8f549c7b476",
   "metadata": {},
   "outputs": [],
   "source": [
    "#Take the first 2 positions and project onto data manifold\n",
    "E = [I zeros(2,T-2)]\n",
    "w = (H'*E'*E*H)\\(H'*E'*ytraj1[1:2])\n",
    "ytraj2 = H*w"
   ]
  },
  {
   "cell_type": "code",
   "execution_count": null,
   "id": "2bd2e909-f54c-4da7-b943-2e0f23a43a29",
   "metadata": {},
   "outputs": [],
   "source": [
    "#Position trajectories match\n",
    "plot(ytraj1)\n",
    "plot(ytraj2)\n",
    "ytraj1-ytraj2"
   ]
  },
  {
   "cell_type": "code",
   "execution_count": null,
   "id": "966c23ef-d3b6-42e2-9210-4851d09e8299",
   "metadata": {},
   "outputs": [],
   "source": [
    "#Generate a random trajectory by \"de-noising\"\n",
    "z̃ = randn(T)\n",
    "plot(z̃)"
   ]
  },
  {
   "cell_type": "code",
   "execution_count": null,
   "id": "ffcb448d-4852-4a3e-99df-8b70601cde45",
   "metadata": {},
   "outputs": [],
   "source": [
    "w = (H'*H)\\(H'*z̃)\n",
    "z = H*w\n",
    "plot(z)"
   ]
  },
  {
   "cell_type": "code",
   "execution_count": null,
   "id": "b5e458d0-1247-401b-b229-cc142f43035f",
   "metadata": {},
   "outputs": [],
   "source": [
    "#Now let's do a closed-loop sim with an LQR controller\n",
    "\n",
    "using ControlSystems\n",
    "Q = Array(1.0*I(2))\n",
    "R = Array(0.1*I(1))\n",
    "\n",
    "AB = exp(h*[0 1 0; -k -c 1; 0 0 0])\n",
    "A = AB[1:2,1:2]\n",
    "B = AB[1:2,3]\n",
    "\n",
    "K = dlqr(A,B,Q,R)"
   ]
  },
  {
   "cell_type": "code",
   "execution_count": null,
   "id": "02c73106-12d8-448b-8b83-0a260eddf020",
   "metadata": {},
   "outputs": [],
   "source": [
    "x0 = [1.0; 0]\n",
    "xtraj = zeros(2,T);\n",
    "utraj = zeros(T-1);\n",
    "xtraj[:,1] .= x0\n",
    "for k = 1:(T-1)\n",
    "    utraj[k] = -(K*xtraj[:,k])[1]\n",
    "    xtraj[:,k+1] .= (A-B*K)*xtraj[:,k];\n",
    "end\n",
    "\n",
    "plot(xtraj[1,:])\n",
    "plot(xtraj[2,:])"
   ]
  },
  {
   "cell_type": "code",
   "execution_count": null,
   "id": "b43c5240-b5bc-4a24-83ce-986d7f964618",
   "metadata": {},
   "outputs": [],
   "source": [
    "#Generate some random closed-loop trajectories\n",
    "N = 10\n",
    "H = zeros(3*T,N)\n",
    "for ℓ = 1:N\n",
    "    xtraj = zeros(2,T)\n",
    "    xtraj[:,1] .= randn(2)\n",
    "    utraj = zeros(T);\n",
    "    utraj[:,1] .= -(K*xtraj[:,1])[1]\n",
    "    for k = 1:(T-1)\n",
    "        xtraj[:,k+1] .= A*xtraj[:,k] + B*utraj[k]\n",
    "        utraj[k+1] = -(K*xtraj[:,k+1])[1]\n",
    "    end\n",
    "    H[:,ℓ] .= ([xtraj; utraj'])[:]\n",
    "end"
   ]
  },
  {
   "cell_type": "code",
   "execution_count": null,
   "id": "f50b2b6b-845a-41d7-820a-65b94c5bcd00",
   "metadata": {},
   "outputs": [],
   "source": [
    "rank(H) #rank of data matrix is still the same"
   ]
  },
  {
   "cell_type": "code",
   "execution_count": null,
   "id": "4e418ab4-3c93-4869-933c-75d2c9cc0a87",
   "metadata": {},
   "outputs": [],
   "source": [
    "#Predict the closed-loop state-control trajectory from the first state using the data matrix\n",
    "E = [I zeros(2,3*T-2)]\n",
    "w = (H'*E'*E*H)\\(H'*E'*x0)\n",
    "ztraj = H*w"
   ]
  },
  {
   "cell_type": "code",
   "execution_count": null,
   "id": "5efa5d88-62ce-4269-9e4e-4ed9021720a7",
   "metadata": {},
   "outputs": [],
   "source": [
    "#Pick off the first control\n",
    "U = [0 0 1 zeros(1,3*T-3)]\n",
    "u = U*ztraj"
   ]
  },
  {
   "cell_type": "code",
   "execution_count": null,
   "id": "411d1c87-2b2f-45f7-8161-16699cc95ef4",
   "metadata": {},
   "outputs": [],
   "source": [
    "#matches the LQR controller\n",
    "-K*x0"
   ]
  },
  {
   "cell_type": "code",
   "execution_count": null,
   "id": "530c3993-72af-445b-a621-d5e353c0b566",
   "metadata": {},
   "outputs": [],
   "source": [
    "#We can even recover the LQR gain from the data matrix\n",
    "-U*H*((H'*E'*E*H)\\(H'*E'))"
   ]
  },
  {
   "cell_type": "code",
   "execution_count": null,
   "id": "a4c9aed1-38ae-4453-8606-4474155cab45",
   "metadata": {},
   "outputs": [],
   "source": [
    "K"
   ]
  },
  {
   "cell_type": "code",
   "execution_count": null,
   "id": "95c74ddf-091c-48b0-baf1-18ee302b3276",
   "metadata": {},
   "outputs": [],
   "source": [
    "#What if we drive the system with white noise instead of using LQR?\n",
    "N = 100\n",
    "H = zeros(3*T-1,N)\n",
    "for ℓ = 1:N\n",
    "    xtraj = zeros(2,T)\n",
    "    xtraj[:,1] .= randn(2)\n",
    "    utraj = zeros(T-1);\n",
    "    for k = 1:(T-1)\n",
    "        utraj[k] = 0.1*randn();\n",
    "        xtraj[:,k+1] .= A*xtraj[:,k] + B*utraj[k]\n",
    "    end\n",
    "    H[:,ℓ] .= [([xtraj[:,1:end-1]; utraj'])[:]; xtraj[:,end]]\n",
    "end"
   ]
  },
  {
   "cell_type": "code",
   "execution_count": null,
   "id": "546b01f8-7bd5-44c2-96d8-c1535145145d",
   "metadata": {},
   "outputs": [],
   "source": [
    "rank(H)"
   ]
  },
  {
   "cell_type": "code",
   "execution_count": null,
   "id": "41f4eb2a-4eff-4e9f-bb35-450d25305574",
   "metadata": {},
   "outputs": [],
   "source": [
    "#Do MPC with the data matrix\n",
    "Nz = 3*T-1\n",
    "\n",
    "Q = Diagonal([kron(ones(T-1),[1; 1; 1.0]); 1; 1])\n",
    "α = 1e-4;\n",
    "Y = [I zeros(2,147)]\n",
    "\n",
    "#KKT matrix\n",
    "F = factorize( [Q zeros(Nz,N) -I Y';\n",
    "                zeros(N,Nz) α*I H' zeros(N,2);\n",
    "                 -I H zeros(Nz,Nz) zeros(Nz,2);\n",
    "                 Y zeros(2,N+Nz+2)]);"
   ]
  },
  {
   "cell_type": "code",
   "execution_count": null,
   "id": "f9fc0272-785b-4fa8-8f59-c711bf1a69da",
   "metadata": {},
   "outputs": [],
   "source": [
    "#Closed-loop sim matches LQR\n",
    "x0 = [1.0; 0]\n",
    "xtraj = zeros(2,T);\n",
    "utraj = zeros(T-1);\n",
    "xtraj[:,1] .= x0\n",
    "for k = 1:(T-1)\n",
    "    #solve QP\n",
    "    s = F\\[zeros(149+100+149); xtraj[:,k]];\n",
    "\n",
    "    utraj[k] = s[3]\n",
    "    xtraj[:,k+1] .= A*xtraj[:,k] + B*utraj[k];\n",
    "end"
   ]
  },
  {
   "cell_type": "code",
   "execution_count": null,
   "id": "baab5b85-4a39-4924-9d66-0456128179de",
   "metadata": {},
   "outputs": [],
   "source": [
    "plot(xtraj[1,:])\n",
    "plot(xtraj[2,:])"
   ]
  },
  {
   "cell_type": "code",
   "execution_count": null,
   "id": "8e600cd7-3245-469f-b7a8-6c9b34ca6bcc",
   "metadata": {},
   "outputs": [],
   "source": []
  }
 ],
 "metadata": {
  "kernelspec": {
   "display_name": "Julia 1.10.9",
   "language": "julia",
   "name": "julia-1.10"
  },
  "language_info": {
   "file_extension": ".jl",
   "mimetype": "application/julia",
   "name": "julia",
   "version": "1.10.9"
  }
 },
 "nbformat": 4,
 "nbformat_minor": 5
}
