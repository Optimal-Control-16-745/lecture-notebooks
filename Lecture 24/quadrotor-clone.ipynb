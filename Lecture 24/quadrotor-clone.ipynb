{
 "cells": [
  {
   "cell_type": "code",
   "execution_count": null,
   "id": "d7acada4-99f0-4c03-9027-bd7afe7827fb",
   "metadata": {},
   "outputs": [],
   "source": [
    "import Pkg; Pkg.activate(@__DIR__); Pkg.instantiate()"
   ]
  },
  {
   "cell_type": "code",
   "execution_count": null,
   "id": "f3737630-e86b-46fb-8c46-08761b4f35d9",
   "metadata": {},
   "outputs": [],
   "source": [
    "using LinearAlgebra\n",
    "using ControlSystems\n",
    "using ForwardDiff\n",
    "using PyPlot"
   ]
  },
  {
   "cell_type": "code",
   "execution_count": null,
   "id": "799fc21d-b3ba-4591-a986-2ade8391dc09",
   "metadata": {},
   "outputs": [],
   "source": [
    "#Model parameters\n",
    "g = 9.81 #m/s^2\n",
    "m = 1.0 #kg \n",
    "ℓ = 0.3 #meters\n",
    "J = 0.2*m*ℓ*ℓ\n",
    "\n",
    "#Thrust limits\n",
    "umin = [0.2*m*g; 0.2*m*g]\n",
    "umax = [0.6*m*g; 0.6*m*g]\n",
    "\n",
    "h = 0.05; #time step (20 Hz)"
   ]
  },
  {
   "cell_type": "code",
   "execution_count": null,
   "id": "0f1ba9c8-50fd-4fa0-b909-01b8cdbf8037",
   "metadata": {},
   "outputs": [],
   "source": [
    "#Planar Quadrotor Dynamics\n",
    "function quad_dynamics(x,u)\n",
    "    θ = x[3]\n",
    "    \n",
    "    ẍ = (1/m)*(u[1] + u[2])*sin(θ)\n",
    "    ÿ = (1/m)*(u[1] + u[2])*cos(θ) - g\n",
    "    θ̈ = (1/J)*(ℓ/2)*(u[2] - u[1])\n",
    "    \n",
    "    return [x[4:6]; ẍ; ÿ; θ̈]\n",
    "end\n",
    "\n",
    "function quad_dynamics_rk4(x,u)\n",
    "    #RK4 integration with zero-order hold on u\n",
    "    f1 = quad_dynamics(x, u)\n",
    "    f2 = quad_dynamics(x + 0.5*h*f1, u)\n",
    "    f3 = quad_dynamics(x + 0.5*h*f2, u)\n",
    "    f4 = quad_dynamics(x + h*f3, u)\n",
    "    return x + (h/6.0)*(f1 + 2*f2 + 2*f3 + f4)\n",
    "end\n",
    "\n",
    "#Linearized dynamics for hovering\n",
    "Nx = 6     # number of state\n",
    "Ny = 3     # number of observations\n",
    "Nu = 2     # number of controls\n",
    "x_hover = zeros(6)\n",
    "u_hover = [0.5*m*g; 0.5*m*g]\n",
    "A = ForwardDiff.jacobian(x->quad_dynamics_rk4(x,u_hover),x_hover);\n",
    "B = ForwardDiff.jacobian(u->quad_dynamics_rk4(x_hover,u),u_hover);\n",
    "C = [I zeros(3,3)];"
   ]
  },
  {
   "cell_type": "code",
   "execution_count": null,
   "id": "982b64fc-8034-4297-857a-81d3b0891fac",
   "metadata": {},
   "outputs": [],
   "source": [
    "#Set up visualization\n",
    "using MeshCat\n",
    "using RobotZoo: Quadrotor, PlanarQuadrotor\n",
    "using CoordinateTransformations, Rotations, Colors, StaticArrays, RobotDynamics\n",
    "\n",
    "function set_mesh!(vis, model::L;\n",
    "        scaling=1.0, color=colorant\"black\"\n",
    "    ) where {L <: Union{Quadrotor, PlanarQuadrotor}} \n",
    "    # urdf_folder = joinpath(@__DIR__, \"..\", \"data\", \"meshes\")\n",
    "    urdf_folder = @__DIR__\n",
    "    # if scaling != 1.0\n",
    "    #     quad_scaling = 0.085 * scaling\n",
    "    obj = joinpath(urdf_folder, \"quadrotor_scaled.obj\")\n",
    "    if scaling != 1.0\n",
    "        error(\"Scaling not implemented after switching to MeshCat 0.12\")\n",
    "    end\n",
    "    robot_obj = MeshFileGeometry(obj)\n",
    "    mat = MeshPhongMaterial(color=color)\n",
    "    setobject!(vis[\"robot\"][\"geom\"], robot_obj, mat)\n",
    "    if hasfield(L, :ned)\n",
    "        model.ned && settransform!(vis[\"robot\"][\"geom\"], LinearMap(RotX(pi)))\n",
    "    end\n",
    "end\n",
    "\n",
    "function visualize!(vis, model::PlanarQuadrotor, x::StaticVector)\n",
    "    py,pz = x[1], x[2]\n",
    "    θ = x[3]\n",
    "    settransform!(vis[\"robot\"], compose(Translation(0,py,pz), LinearMap(RotX(-θ))))\n",
    "end\n",
    "\n",
    "function visualize!(vis, model, tf::Real, X)\n",
    "    fps = Int(round((length(X)-1)/tf))\n",
    "    anim = MeshCat.Animation(vis; fps)\n",
    "    for (k,x) in enumerate(X)\n",
    "        atframe(anim, k) do\n",
    "            x = X[k]\n",
    "            visualize!(vis, model, SVector{6}(x)) \n",
    "        end\n",
    "    end\n",
    "    setanimation!(vis, anim)\n",
    "end"
   ]
  },
  {
   "cell_type": "code",
   "execution_count": null,
   "id": "d8529227-2642-40d9-8a8d-a6d0ffb8f532",
   "metadata": {},
   "outputs": [],
   "source": [
    "#LQR Hover Controller\n",
    "Q = Array(1.0*I(Nx));\n",
    "R = Array(0.1*I(Nu));\n",
    "K = dlqr(A,B,Q,R)\n",
    "\n",
    "xref = [0.0; 1.0; 0; 0; 0; 0]\n",
    "\n",
    "function lqr_controller(x)\n",
    "    return u_hover - K*(x-xref)\n",
    "end"
   ]
  },
  {
   "cell_type": "code",
   "execution_count": null,
   "id": "7c760580-d08f-49f2-9c7b-d49a98990883",
   "metadata": {},
   "outputs": [],
   "source": [
    "Tfinal = 5.0 # final time\n",
    "Nt = Int(Tfinal/h)+1    # number of time steps\n",
    "thist = Array(range(0,h*(Nt-1), step=h));\n",
    "\n",
    "function closed_loop(x0,N)\n",
    "    xhist = zeros(Nx,N)\n",
    "    uhist = zeros(Nu,N-1)\n",
    "    xhist[:,1] .= x0\n",
    "    for k = 1:(N-1)\n",
    "        uhist[:,k] .= lqr_controller(xhist[:,k])\n",
    "        xhist[:,k+1] .= xref + A*(xhist[:,k]-xref) + B*(uhist[:,k]-u_hover)\n",
    "    end\n",
    "    return xhist, uhist\n",
    "end"
   ]
  },
  {
   "cell_type": "code",
   "execution_count": null,
   "id": "77c074a9-c2d8-437e-b50c-69051b6af320",
   "metadata": {},
   "outputs": [],
   "source": [
    "#Generate a bunch of trajectories from random initial conditions\n",
    "N = 20\n",
    "H = zeros((Ny+Nu)*(Nt-1),N)\n",
    "for ℓ = 1:N\n",
    "    x0 = xref + 0.2*randn(Nx)\n",
    "    xtraj, utraj = closed_loop(x0, Nt);\n",
    "    ytraj = C*xtraj[:,1:end-1];\n",
    "    H[:,ℓ] = ([ytraj; utraj])[:]\n",
    "end"
   ]
  },
  {
   "cell_type": "code",
   "execution_count": null,
   "id": "908b5835-ad10-4172-828b-41c05886b506",
   "metadata": {},
   "outputs": [],
   "source": [
    "#Cloned controller\n",
    "m = 2; #observation history\n",
    "function cloned_controller(yhist)\n",
    "    Y = [I zeros(m*Ny + (m-1)*Nu,(Ny*(Nt-m-1) + Nu*(Nt-m)))]\n",
    "    U = [zeros(Nu,Ny*m + Nu*(m-1)) I zeros(Nu,(Ny+Nu)*(Nt-m-1))]\n",
    "    w = (H'*Y'*Y*H)\\(H'*Y'*yhist[:])\n",
    "    u = U*H*w\n",
    "    return u\n",
    "end"
   ]
  },
  {
   "cell_type": "code",
   "execution_count": null,
   "id": "52b3f21a-8d24-4d88-8a65-961af4366810",
   "metadata": {},
   "outputs": [],
   "source": [
    "function closed_loop2(x0,N)\n",
    "    xhist = zeros(Nx,N)\n",
    "    uhist = zeros(Nu,N-1)\n",
    "    xhist[:,1] .= x0\n",
    "    for k = 1:(m-1)\n",
    "        uhist[:,k] .= lqr_controller(xhist[:,k]);\n",
    "        xhist[:,k+1] .= xref + A*(xhist[:,k]-xref) + B*(uhist[:,k]-u_hover)\n",
    "    end\n",
    "    for k = m:(N-1)\n",
    "        yhist = [C*xhist[:,k-1]; uhist[:,k-1]; C*xhist[:,k]]\n",
    "        uhist[:,k] .= cloned_controller(yhist)\n",
    "        xhist[:,k+1] .= xref + A*(xhist[:,k]-xref) + B*(uhist[:,k]-u_hover)\n",
    "    end\n",
    "    return xhist, uhist\n",
    "end"
   ]
  },
  {
   "cell_type": "code",
   "execution_count": null,
   "id": "5cd1b5f4-7e9a-42ed-8928-a194dc461f39",
   "metadata": {},
   "outputs": [],
   "source": [
    "vis = Visualizer()\n",
    "model = PlanarQuadrotor()\n",
    "set_mesh!(vis, model)\n",
    "render(vis)"
   ]
  },
  {
   "cell_type": "code",
   "execution_count": null,
   "id": "5bb80d87-fa52-4bf5-9c36-db79be1a719a",
   "metadata": {},
   "outputs": [],
   "source": [
    "#Rollout from random initial conditions\n",
    "x0 = xref + 0.5*randn(Nx)\n",
    "xhist1, uhist1 = closed_loop(x0, Nt);\n",
    "xhist2, uhist2 = closed_loop2(x0, Nt);\n",
    "xhist1-xhist2"
   ]
  },
  {
   "cell_type": "code",
   "execution_count": null,
   "id": "f6f98e14-5dfa-48b6-836f-1ade31fb4d8f",
   "metadata": {},
   "outputs": [],
   "source": [
    "X2 = [SVector{6}(x) for x in eachcol(xhist2)];\n",
    "visualize!(vis, model, thist[end], X2)"
   ]
  },
  {
   "cell_type": "code",
   "execution_count": null,
   "id": "f9af17dd-ede3-4f39-8827-233a1e24b6d7",
   "metadata": {},
   "outputs": [],
   "source": []
  }
 ],
 "metadata": {
  "kernelspec": {
   "display_name": "Julia 1.10.9",
   "language": "julia",
   "name": "julia-1.10"
  },
  "language_info": {
   "file_extension": ".jl",
   "mimetype": "application/julia",
   "name": "julia",
   "version": "1.10.9"
  }
 },
 "nbformat": 4,
 "nbformat_minor": 5
}
