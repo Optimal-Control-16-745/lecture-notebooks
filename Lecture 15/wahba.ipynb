{
 "cells": [
  {
   "cell_type": "code",
   "execution_count": null,
   "metadata": {},
   "outputs": [],
   "source": [
    "import Pkg; Pkg.activate(@__DIR__); Pkg.instantiate()"
   ]
  },
  {
   "cell_type": "code",
   "execution_count": null,
   "metadata": {},
   "outputs": [],
   "source": [
    "using LinearAlgebra\n",
    "using ForwardDiff"
   ]
  },
  {
   "cell_type": "code",
   "execution_count": null,
   "metadata": {},
   "outputs": [],
   "source": [
    "function hat(v)\n",
    "    return [0 -v[3] v[2];\n",
    "            v[3] 0 -v[1];\n",
    "            -v[2] v[1] 0]\n",
    "end"
   ]
  },
  {
   "cell_type": "code",
   "execution_count": null,
   "metadata": {},
   "outputs": [],
   "source": [
    "function L(q)\n",
    "    s = q[1]\n",
    "    v = q[2:4]\n",
    "    L = [s    -v';\n",
    "         v  s*I+hat(v)]\n",
    "    return L\n",
    "end"
   ]
  },
  {
   "cell_type": "code",
   "execution_count": null,
   "metadata": {},
   "outputs": [],
   "source": [
    "function R(q)\n",
    "    s = q[1]\n",
    "    v = q[2:4]\n",
    "    R = [s    -v';\n",
    "         v  s*I-hat(v)]\n",
    "    return R\n",
    "end"
   ]
  },
  {
   "cell_type": "code",
   "execution_count": null,
   "metadata": {},
   "outputs": [],
   "source": [
    "T = Diagonal([1; -ones(3)])\n",
    "H = [zeros(1,3); I];"
   ]
  },
  {
   "cell_type": "code",
   "execution_count": null,
   "metadata": {},
   "outputs": [],
   "source": [
    "function G(q)\n",
    "    G = L(q)*H\n",
    "end\n",
    "\n",
    "function Q(q)\n",
    "    return H'*(R(q)'*L(q))*H\n",
    "end"
   ]
  },
  {
   "cell_type": "code",
   "execution_count": null,
   "metadata": {},
   "outputs": [],
   "source": [
    "#Generate a random quaternion\n",
    "qtrue = randn(4)\n",
    "qtrue = qtrue/norm(qtrue)\n",
    "\n",
    "Qtrue = Q(qtrue) #Generate equivalent rotation matrix"
   ]
  },
  {
   "cell_type": "code",
   "execution_count": null,
   "metadata": {},
   "outputs": [],
   "source": [
    "#Generate data\n",
    "vN = randn(3,10) #Generate some random world-frame vectors\n",
    "\n",
    "#normalize\n",
    "for k = 1:10\n",
    "    vN[:,k] .= vN[:,k]./norm(vN[:,k])\n",
    "end\n",
    "\n",
    "vB = Qtrue'*vN #generate body-frame vectors"
   ]
  },
  {
   "cell_type": "code",
   "execution_count": null,
   "metadata": {},
   "outputs": [],
   "source": [
    "function residual(q)\n",
    "    r = vN - Q(q)*vB\n",
    "    return r[:]\n",
    "end"
   ]
  },
  {
   "cell_type": "code",
   "execution_count": null,
   "metadata": {},
   "outputs": [],
   "source": [
    "#Random initial guess\n",
    "q = randn(4)\n",
    "q = q/norm(q)"
   ]
  },
  {
   "cell_type": "code",
   "execution_count": null,
   "metadata": {},
   "outputs": [],
   "source": [
    "#Gauss-Newton Method\n",
    "ϕ = ones(3)\n",
    "iter = 0\n",
    "while maximum(abs.(ϕ)) > 1e-8\n",
    "    r = residual(q)\n",
    "    dr = ForwardDiff.jacobian(residual, q)\n",
    "    ∇r = dr*G(q)\n",
    "    ϕ = -(∇r'*∇r)\\(∇r'*r) #3-parameter update computed with gauss-newton\n",
    "    q = L(q)*[sqrt(1-ϕ'*ϕ); ϕ] #multiplicative update applied to q\n",
    "    iter += 1\n",
    "end"
   ]
  },
  {
   "cell_type": "code",
   "execution_count": null,
   "metadata": {},
   "outputs": [],
   "source": [
    "q-qtrue"
   ]
  },
  {
   "cell_type": "code",
   "execution_count": null,
   "metadata": {},
   "outputs": [],
   "source": [
    "q+qtrue"
   ]
  },
  {
   "cell_type": "code",
   "execution_count": null,
   "metadata": {},
   "outputs": [],
   "source": []
  }
 ],
 "metadata": {
  "kernelspec": {
   "display_name": "Julia 1.10.8",
   "language": "julia",
   "name": "julia-1.10"
  },
  "language_info": {
   "file_extension": ".jl",
   "mimetype": "application/julia",
   "name": "julia",
   "version": "1.10.8"
  }
 },
 "nbformat": 4,
 "nbformat_minor": 4
}
