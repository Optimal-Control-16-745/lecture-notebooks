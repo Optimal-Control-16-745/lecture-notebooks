{
 "cells": [
  {
   "cell_type": "code",
   "execution_count": null,
   "metadata": {},
   "outputs": [],
   "source": [
    "import Pkg; Pkg.activate(@__DIR__); Pkg.instantiate()"
   ]
  },
  {
   "cell_type": "code",
   "execution_count": null,
   "metadata": {},
   "outputs": [],
   "source": [
    "using LinearAlgebra\n",
    "using ForwardDiff\n",
    "using PyPlot"
   ]
  },
  {
   "cell_type": "code",
   "execution_count": null,
   "metadata": {},
   "outputs": [],
   "source": [
    "function f(x)\n",
    "    return x.^4 + x.^3 - x.^2 - x\n",
    "end"
   ]
  },
  {
   "cell_type": "code",
   "execution_count": null,
   "metadata": {},
   "outputs": [],
   "source": [
    "function ∇f(x)\n",
    "    return 4.0*x.^3 + 3.0*x.^2 - 2.0*x - 1.0\n",
    "end"
   ]
  },
  {
   "cell_type": "code",
   "execution_count": null,
   "metadata": {},
   "outputs": [],
   "source": [
    "function ∇2f(x)\n",
    "    return 12.0*x.^2 + 6.0*x - 2.0\n",
    "end"
   ]
  },
  {
   "cell_type": "code",
   "execution_count": null,
   "metadata": {},
   "outputs": [],
   "source": [
    "x = LinRange(-1.75,1.25,1000)"
   ]
  },
  {
   "cell_type": "code",
   "execution_count": null,
   "metadata": {},
   "outputs": [],
   "source": [
    "p = plot(x,f(x))"
   ]
  },
  {
   "cell_type": "code",
   "execution_count": null,
   "metadata": {},
   "outputs": [],
   "source": [
    "function newton_step(x0)\n",
    "    xn = x0 - ∇2f(x0)\\∇f(x0)\n",
    "end"
   ]
  },
  {
   "cell_type": "code",
   "execution_count": null,
   "metadata": {},
   "outputs": [],
   "source": [
    "xguess = 0.0\n",
    "plot(x, f(x))\n",
    "plot(xguess, f(xguess), \"rx\")"
   ]
  },
  {
   "cell_type": "code",
   "execution_count": null,
   "metadata": {},
   "outputs": [],
   "source": [
    "xnew = newton_step(xguess[end])\n",
    "xguess = [xguess xnew]\n",
    "plot(x, f(x))\n",
    "plot(xguess, f(xguess), \"rx\")"
   ]
  },
  {
   "cell_type": "code",
   "execution_count": null,
   "metadata": {},
   "outputs": [],
   "source": []
  },
  {
   "cell_type": "code",
   "execution_count": null,
   "metadata": {},
   "outputs": [],
   "source": [
    "∇2f(0.0)"
   ]
  },
  {
   "cell_type": "code",
   "execution_count": null,
   "metadata": {},
   "outputs": [],
   "source": [
    "function regularized_newton_step(x0)\n",
    "    β = 1.0\n",
    "    H = ∇2f(x0)\n",
    "    while !isposdef(H)\n",
    "        H = H + β*I\n",
    "    end\n",
    "    xn = x0 - H\\∇f(x0)\n",
    "end"
   ]
  },
  {
   "cell_type": "code",
   "execution_count": null,
   "metadata": {},
   "outputs": [],
   "source": [
    "xguess = 0.0\n",
    "plot(x, f(x))\n",
    "plot(xguess, f(xguess), \"rx\")"
   ]
  },
  {
   "cell_type": "code",
   "execution_count": null,
   "metadata": {},
   "outputs": [],
   "source": [
    "xnew = regularized_newton_step(xguess[end])\n",
    "xguess = [xguess xnew]\n",
    "plot(x, f(x))\n",
    "plot(xguess, f(xguess), \"rx\")"
   ]
  },
  {
   "cell_type": "code",
   "execution_count": null,
   "metadata": {},
   "outputs": [],
   "source": []
  },
  {
   "cell_type": "code",
   "execution_count": null,
   "metadata": {},
   "outputs": [],
   "source": [
    "function backtracking_regularized_newton_step(x0)\n",
    "    b = 0.1\n",
    "    c = 0.5\n",
    "    β = 1.0\n",
    "    H = ∇2f(x0)\n",
    "    while !isposdef(H)\n",
    "        H = H + β*I\n",
    "    end\n",
    "    Δx = -H\\∇f(x0)\n",
    "    \n",
    "    α = 1.0\n",
    "    while f(x0 + α*Δx) > f(x0) + b*α*∇f(x0)*Δx\n",
    "        α = c*α\n",
    "    end\n",
    "    print(α)\n",
    "    xn = x0 + α*Δx\n",
    "end"
   ]
  },
  {
   "cell_type": "code",
   "execution_count": null,
   "metadata": {},
   "outputs": [],
   "source": [
    "xguess = 0.0\n",
    "plot(x, f(x))\n",
    "plot(xguess, f(xguess), \"rx\")"
   ]
  },
  {
   "cell_type": "code",
   "execution_count": null,
   "metadata": {},
   "outputs": [],
   "source": [
    "xnew = backtracking_regularized_newton_step(xguess[end])\n",
    "xguess = [xguess xnew]\n",
    "plot(x, f(x))\n",
    "plot(xguess, f(xguess), \"rx\")"
   ]
  },
  {
   "cell_type": "code",
   "execution_count": null,
   "metadata": {},
   "outputs": [],
   "source": []
  }
 ],
 "metadata": {
  "kernelspec": {
   "display_name": "Julia 1.10.7",
   "language": "julia",
   "name": "julia-1.10"
  },
  "language_info": {
   "file_extension": ".jl",
   "mimetype": "application/julia",
   "name": "julia",
   "version": "1.10.7"
  }
 },
 "nbformat": 4,
 "nbformat_minor": 4
}
